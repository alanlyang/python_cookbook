{
 "cells": [
  {
   "cell_type": "markdown",
   "metadata": {},
   "source": [
    "### 6.3 解析简单的xml数据"
   ]
  },
  {
   "cell_type": "markdown",
   "metadata": {},
   "source": [
    "可以使用 `xml.etree.ElementTree` 模块从简单的XML文档中提取数据。假如要解析Planet Python上的RSS源："
   ]
  },
  {
   "cell_type": "code",
   "execution_count": 2,
   "metadata": {
    "collapsed": true
   },
   "outputs": [],
   "source": [
    "from urllib.request import urlopen\n",
    "from xml.etree.ElementTree import parse\n",
    "\n",
    "#下载源\n",
    "u = urlopen('http://planet.python.org/rss20.xml')\n",
    "doc = parse(u)"
   ]
  },
  {
   "cell_type": "code",
   "execution_count": 4,
   "metadata": {},
   "outputs": [
    {
     "name": "stdout",
     "output_type": "stream",
     "text": [
      "Mike Driscoll: PyDev of the Week:  Maria Khalusova\n",
      "Mon, 11 Mar 2019 05:05:41 +0000\n",
      "http://www.blog.pythonlibrary.org/2019/03/11/pydev-of-the-week-maria-khalusova/\n",
      "\n",
      "Django Weekly: #73 - Djangochat podcast, Django Recommended Reading and more\n",
      "Sun, 10 Mar 2019 14:06:24 +0000\n",
      "http://djangoweekly.com/blog/post/73-djangochat-podcast-django-recommended-reading-and-more\n",
      "\n",
      "Zato Blog: Working with LDAP and Active Directory\n",
      "Sun, 10 Mar 2019 07:00:11 +0000\n",
      "https://zato.io/blog/posts/ldap-active-directory.html\n",
      "\n",
      "Techiediaries - Django: Post Multipart Form Data in Python with Requests: Flask File Upload Example\n",
      "Sun, 10 Mar 2019 00:00:00 +0000\n",
      "https://www.techiediaries.com/python-requests-upload-file-post-multipart-form-data/\n",
      "\n",
      "Techiediaries - Django: Multiple Image/File Upload with Django, Ionic 4 and FormData\n",
      "Sun, 10 Mar 2019 00:00:00 +0000\n",
      "https://www.techiediaries.com/ionic-formdata-multiple-file-upload-tutorial/\n",
      "\n",
      "Techiediaries - Django: CORS in Django REST Framework\n",
      "Sun, 10 Mar 2019 00:00:00 +0000\n",
      "https://www.techiediaries.com/django-cors/\n",
      "\n"
     ]
    }
   ],
   "source": [
    "count = 0\n",
    "for item in doc.iterfind('channel/item'):\n",
    "    if count > 5:\n",
    "        break\n",
    "    title = item.findtext('title')\n",
    "    date = item.findtext('pubDate')\n",
    "    link = item.findtext('link')\n",
    "    count += 1\n",
    "    print(title)\n",
    "    print(date)\n",
    "    print(link)\n",
    "    print()"
   ]
  },
  {
   "cell_type": "markdown",
   "metadata": {},
   "source": [
    "`xml.etree.ElementTree.parse()`函数解析整个XML文档并将其转化为一个文档对象。然后就可以使用`find()`、`iterfind()`、`findtext()`等方法来获取指定的XML元素，这些函数的参数就是某个指定的标签名，例如：channel/item 或者 title"
   ]
  },
  {
   "cell_type": "markdown",
   "metadata": {},
   "source": [
    "每次指定标签时，需要遍历**整个文档**,每次搜索操作会从一个骑士元素开始进行，同每次操作所指定的标签名也是骑士元素的相对路径。doc 代表文件的最顶层"
   ]
  },
  {
   "cell_type": "markdown",
   "metadata": {},
   "source": [
    "ElementTree 模块中每个元素由一些重要的属性和方法，在解析的时候非常有用。   \n",
    "**`tag`**属性包含了标签的名字，**`text`**属性包含了内部的文本，而**get()**方法能获取属性值"
   ]
  },
  {
   "cell_type": "markdown",
   "metadata": {},
   "source": [
    "需要强调的是，**xml.etree.ElementTree并不是XML唯一的解析方法**,对于更高级的应用程序，需要使用*lxml*    \n",
    "lxml 完全遵循XML标准，并且速度也非常快，同时还支持验证，XSLT和XPath等特性"
   ]
  },
  {
   "cell_type": "code",
   "execution_count": null,
   "metadata": {
    "collapsed": true
   },
   "outputs": [],
   "source": []
  }
 ],
 "metadata": {
  "kernelspec": {
   "display_name": "Python 3",
   "language": "python",
   "name": "python3"
  },
  "language_info": {
   "codemirror_mode": {
    "name": "ipython",
    "version": 3
   },
   "file_extension": ".py",
   "mimetype": "text/x-python",
   "name": "python",
   "nbconvert_exporter": "python",
   "pygments_lexer": "ipython3",
   "version": "3.6.2"
  }
 },
 "nbformat": 4,
 "nbformat_minor": 2
}
