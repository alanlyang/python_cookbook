{
 "cells": [
  {
   "cell_type": "markdown",
   "metadata": {},
   "source": [
    "软件开发领域的口头禅就是\"don't repeat youself\",当程序中存在高度重复的代码时，就应该想下有没有更好的解决方案"
   ]
  },
  {
   "cell_type": "markdown",
   "metadata": {},
   "source": [
    "在python中，通常可以通过**元编程**来解决这类问题。    \n",
    "**元编程就是关于创建操作源代码的函数和类（比如修改、生成或包装原来的代码）**"
   ]
  },
  {
   "cell_type": "markdown",
   "metadata": {},
   "source": [
    "主要技术是使用**装饰器、类装饰器、元类**，当然还有一些其他技术，包括*签名对象，使用exec()执行代码、以及对内部函数和类的反射技术等*"
   ]
  },
  {
   "cell_type": "markdown",
   "metadata": {},
   "source": [
    "可以通过包装器在函数上添加额外的功能"
   ]
  },
  {
   "cell_type": "code",
   "execution_count": 17,
   "metadata": {
    "collapsed": true
   },
   "outputs": [],
   "source": [
    "# 例如：添加函数的执行时间\n",
    "import time\n",
    "\n",
    "# functools主要用来增加函数功能, 为函数式变成而设计\n",
    "from functools import wraps\n",
    "\n",
    "# 包装器接收一个可调用对象，返回一个可调用对象\n",
    "def time_func(func):\n",
    "    @wraps(func)\n",
    "    def wrapper(*args, **kwargs):\n",
    "        start = time.time()\n",
    "        result = func(*args, **kwargs)\n",
    "        end = time.time()\n",
    "        print(func.__name__, end-start)\n",
    "        return result\n",
    "    \n",
    "    # 返回修改后的函数\n",
    "    return wrapper"
   ]
  },
  {
   "cell_type": "code",
   "execution_count": 18,
   "metadata": {},
   "outputs": [
    {
     "name": "stdout",
     "output_type": "stream",
     "text": [
      "countdown 0.009000062942504883\n"
     ]
    }
   ],
   "source": [
    "@time_func\n",
    "def countdown(num):\n",
    "    while num > 0:\n",
    "        num -= 1\n",
    "\n",
    "countdown(100000)"
   ]
  },
  {
   "cell_type": "markdown",
   "metadata": {},
   "source": [
    "一个装饰器本质上就是一个函数，他接收一个函数作为参数，并返回一个新的函数"
   ]
  },
  {
   "cell_type": "code",
   "execution_count": 19,
   "metadata": {
    "collapsed": true
   },
   "outputs": [],
   "source": [
    "# 等价于\n",
    "def countdown(n):\n",
    "    pass\n",
    "countdown = time_func(countdown)"
   ]
  },
  {
   "cell_type": "markdown",
   "metadata": {},
   "source": [
    "内置的 @staticmethod ， @classmethod,  @property 原理也是一样的。例如，下面两个代码是等价的"
   ]
  },
  {
   "cell_type": "code",
   "execution_count": 20,
   "metadata": {
    "collapsed": true
   },
   "outputs": [],
   "source": [
    "class A:\n",
    "    @classmethod\n",
    "    def method(cls):\n",
    "        pass\n",
    "\n",
    "class B:\n",
    "    def method(cls):\n",
    "        pass\n",
    "    method = classmethod(method)"
   ]
  },
  {
   "cell_type": "markdown",
   "metadata": {},
   "source": [
    "装饰器内部定义了一个是用 `*args和**kwargs`来接收任意参数的函数，在这个函数里调用原始的函数并将其结果返回，不过还可以添加其他额外的代码，然后这个新的函数包装器被作为结果返回来代替原始函数"
   ]
  },
  {
   "cell_type": "markdown",
   "metadata": {},
   "source": [
    "需要强调的是装饰器并不会修改原始函数的参数签名以及返回值"
   ]
  }
 ],
 "metadata": {
  "kernelspec": {
   "display_name": "Python 3",
   "language": "python",
   "name": "python3"
  },
  "language_info": {
   "codemirror_mode": {
    "name": "ipython",
    "version": 3
   },
   "file_extension": ".py",
   "mimetype": "text/x-python",
   "name": "python",
   "nbconvert_exporter": "python",
   "pygments_lexer": "ipython3",
   "version": "3.6.2"
  }
 },
 "nbformat": 4,
 "nbformat_minor": 2
}
