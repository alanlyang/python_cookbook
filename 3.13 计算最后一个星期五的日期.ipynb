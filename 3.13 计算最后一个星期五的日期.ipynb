{
 "cells": [
  {
   "cell_type": "markdown",
   "metadata": {},
   "source": [
    "### 3.13 计算最后一个周五的日期"
   ]
  },
  {
   "cell_type": "markdown",
   "metadata": {},
   "source": [
    "有时候，我们需要查找星期中某一天最后出现的日期，比如星期五   \n",
    "Python的**datetime**模块提供了相关的工具可以帮助执行这样的计算  \n",
    "下面提供了一个通用的解决方法"
   ]
  },
  {
   "cell_type": "code",
   "execution_count": 6,
   "metadata": {
    "collapsed": true
   },
   "outputs": [],
   "source": [
    "\"\"\"\n",
    "Topic:用于计算截止当前为止，最后一个星期几\n",
    "Desc : start_day为截止日期\n",
    "\"\"\"\n",
    "from datetime import datetime,timedelta\n",
    "\n",
    "weekdays = ['Mon','Tu','We','Th','Fri','Sa','Sun']\n",
    "\n",
    "def get_pervious_byday(dayname,start_date=None):\n",
    "    #确定起始时间\n",
    "    if start_date is None:\n",
    "        start_date = datetime.today()\n",
    "    \n",
    "    #weekday()用户获取今天是周几，4代表周五\n",
    "    day_num = start_date.weekday()\n",
    "    #获取想要查询的是周几\n",
    "    day_num_target = weekdays.index(dayname)\n",
    "    \n",
    "    days_ago = (7 + day_num - day_num_target) % 7\n",
    "    \n",
    "    if days_ago == 0:\n",
    "        days_ago = 7\n",
    "    \n",
    "    target_date = start_day - timedelta(days = days_ago)\n",
    "    return target_date\n",
    "    "
   ]
  },
  {
   "cell_type": "code",
   "execution_count": 8,
   "metadata": {},
   "outputs": [
    {
     "name": "stdout",
     "output_type": "stream",
     "text": [
      "2018-08-27 10:13:28.916860\n"
     ]
    }
   ],
   "source": [
    "print(get_pervious_byday('Mon'))"
   ]
  },
  {
   "cell_type": "markdown",
   "metadata": {},
   "source": [
    "函数的原理其实很简单：   \n",
    " >先将开始日期和目标日期银蛇到星期数组的位置上  \n",
    " >然后通过模运算算出目标日期需要经过多少天才能到达开始日期  \n",
    " >最后用开始日期减去时间差即可得到"
   ]
  }
 ],
 "metadata": {
  "kernelspec": {
   "display_name": "Python 3",
   "language": "python",
   "name": "python3"
  },
  "language_info": {
   "codemirror_mode": {
    "name": "ipython",
    "version": 3
   },
   "file_extension": ".py",
   "mimetype": "text/x-python",
   "name": "python",
   "nbconvert_exporter": "python",
   "pygments_lexer": "ipython3",
   "version": "3.6.2"
  }
 },
 "nbformat": 4,
 "nbformat_minor": 2
}
