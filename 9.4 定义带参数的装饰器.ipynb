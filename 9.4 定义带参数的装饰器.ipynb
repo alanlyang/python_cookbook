{
 "cells": [
  {
   "cell_type": "markdown",
   "metadata": {},
   "source": [
    "定义一个可以接受参数的装饰器"
   ]
  },
  {
   "cell_type": "code",
   "execution_count": 1,
   "metadata": {
    "collapsed": true
   },
   "outputs": [],
   "source": [
    "# coding:utf-8\n",
    "from functools import wraps\n",
    "import logging\n",
    "\n",
    "def logged(level, name=None, message=None):\n",
    "    \"\"\"给一个函数添加日志信息，并允许接收日志级别及其他信息\n",
    "    \"\"\"\n",
    "    def decorate(func):\n",
    "        logname = name if name else func.__module__\n",
    "        log = logging.getLogger(logname)\n",
    "        logmsg = message if message else func.__name__\n",
    "        \n",
    "        @wraps(func)\n",
    "        def wrapper(*args, **kwargs):\n",
    "            log.log(level, logmsg)\n",
    "            return func(*args, **kwargs)\n",
    "        return wrapper\n",
    "    return decorate\n",
    "\n",
    "# Example use\n",
    "@logged(logging.DEBUG)\n",
    "def add(x, y):\n",
    "    return x + y\n",
    "\n",
    "@logged(logging.CRITICAL, \"example\")\n",
    "def spam():\n",
    "    print('Spam')"
   ]
  },
  {
   "cell_type": "markdown",
   "metadata": {},
   "source": [
    "最外层的logged（） 接受参数并将他们作用在内部的装饰器函数上，内层的decorate()接收一个函数作为参数，然后在函数上面放置一个包装器"
   ]
  }
 ],
 "metadata": {
  "kernelspec": {
   "display_name": "Python 3",
   "language": "python",
   "name": "python3"
  },
  "language_info": {
   "codemirror_mode": {
    "name": "ipython",
    "version": 3
   },
   "file_extension": ".py",
   "mimetype": "text/x-python",
   "name": "python",
   "nbconvert_exporter": "python",
   "pygments_lexer": "ipython3",
   "version": "3.6.2"
  }
 },
 "nbformat": 4,
 "nbformat_minor": 2
}
