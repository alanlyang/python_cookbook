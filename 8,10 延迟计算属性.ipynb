{
 "cells": [
  {
   "cell_type": "markdown",
   "metadata": {},
   "source": [
    "有时候想要将一个只读属性变成一个property，并且只在访问的时候才计算结果。但是一旦被访问后，希望结果被缓存起来，不用每次都去计算。  \n",
    "定义一个延迟属性的一种高效方法是**通过一个描述器类**"
   ]
  },
  {
   "cell_type": "code",
   "execution_count": 2,
   "metadata": {
    "collapsed": true
   },
   "outputs": [],
   "source": [
    "class lazyproperty:\n",
    "    def __init__(self, func):\n",
    "        self.func = func\n",
    "    \n",
    "    # 非资料描述器\n",
    "    def __get__(self, instance, cls):\n",
    "        if instance is None:\n",
    "            return self\n",
    "        else:\n",
    "            value = self.func(instance)\n",
    "            setattr(instance, self.func.__name__, value)\n",
    "            return value\n",
    "        "
   ]
  },
  {
   "cell_type": "markdown",
   "metadata": {},
   "source": [
    "使用如下:"
   ]
  },
  {
   "cell_type": "code",
   "execution_count": 3,
   "metadata": {},
   "outputs": [],
   "source": [
    "import math\n",
    "\n",
    "class Circle:\n",
    "    def __init__(self, radius):\n",
    "        self.radius = radius\n",
    "    \n",
    "    @lazyproperty\n",
    "    def area(self):\n",
    "        print(\"Area :\")\n",
    "        return math.pi * self.radius ** 2\n",
    "    \n",
    "    @lazyproperty\n",
    "    def perimeter(self):\n",
    "        print(\"Perimeter:\")\n",
    "        return math.pi * self.radius * 2"
   ]
  },
  {
   "cell_type": "code",
   "execution_count": 4,
   "metadata": {},
   "outputs": [
    {
     "data": {
      "text/plain": [
       "{'radius': 3}"
      ]
     },
     "execution_count": 4,
     "metadata": {},
     "output_type": "execute_result"
    }
   ],
   "source": [
    "e = Circle(3)\n",
    "e.__dict__"
   ]
  },
  {
   "cell_type": "code",
   "execution_count": 5,
   "metadata": {},
   "outputs": [
    {
     "name": "stdout",
     "output_type": "stream",
     "text": [
      "Area :\n"
     ]
    },
    {
     "data": {
      "text/plain": [
       "{'area': 28.274333882308138, 'radius': 3}"
      ]
     },
     "execution_count": 5,
     "metadata": {},
     "output_type": "execute_result"
    }
   ],
   "source": [
    "e.area\n",
    "e.__dict__"
   ]
  },
  {
   "cell_type": "markdown",
   "metadata": {},
   "source": [
    "大多数时候，构造一个延迟计算属性的主要目的是为了提升性能。这里的实现以一种非常高效的方式使用描述器"
   ]
  },
  {
   "cell_type": "markdown",
   "metadata": {
    "collapsed": true
   },
   "source": [
    "当一个描述器被放入一个类的定义的时候，每次访问属性时，他的`__get___()、__set__()、__delete__()`方法就会被触发。不过，如果一个描述器如果只定义了`__get__()`方法时，它比通常的具有更弱的绑定。**特别的，只有当被访问属性不在市里底层字典的时候，`__get__()`方法才会被触发**"
   ]
  },
  {
   "cell_type": "markdown",
   "metadata": {},
   "source": [
    "lazyproperty正是利用了非资料描述器的这种特性，在使用`__get__()`方法在实例中村粗计算出来的值，这个实例使用相同的名字作为他的property. 从而实现对结果的缓存"
   ]
  },
  {
   "cell_type": "code",
   "execution_count": 6,
   "metadata": {},
   "outputs": [
    {
     "data": {
      "text/plain": [
       "{'radius': 4.0}"
      ]
     },
     "execution_count": 6,
     "metadata": {},
     "output_type": "execute_result"
    }
   ],
   "source": [
    "c = Circle(4.0)\n",
    "vars(c)"
   ]
  },
  {
   "cell_type": "code",
   "execution_count": 7,
   "metadata": {},
   "outputs": [
    {
     "name": "stdout",
     "output_type": "stream",
     "text": [
      "Area :\n",
      "50.26548245743669\n"
     ]
    },
    {
     "data": {
      "text/plain": [
       "{'area': 50.26548245743669, 'radius': 4.0}"
      ]
     },
     "execution_count": 7,
     "metadata": {},
     "output_type": "execute_result"
    }
   ],
   "source": [
    "print(c.area)\n",
    "vars(c)"
   ]
  },
  {
   "cell_type": "markdown",
   "metadata": {},
   "source": [
    "***vars()返回 对象object 的属性和属性值的字典对象 ***"
   ]
  },
  {
   "cell_type": "markdown",
   "metadata": {},
   "source": [
    "这种方案的缺陷就是计算出来的值被创建后是可以被修改的。"
   ]
  }
 ],
 "metadata": {
  "kernelspec": {
   "display_name": "Python 3",
   "language": "python",
   "name": "python3"
  },
  "language_info": {
   "codemirror_mode": {
    "name": "ipython",
    "version": 3
   },
   "file_extension": ".py",
   "mimetype": "text/x-python",
   "name": "python",
   "nbconvert_exporter": "python",
   "pygments_lexer": "ipython3",
   "version": "3.6.2"
  }
 },
 "nbformat": 4,
 "nbformat_minor": 2
}
