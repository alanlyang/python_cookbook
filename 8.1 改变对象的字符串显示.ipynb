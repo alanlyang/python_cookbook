{
 "cells": [
  {
   "cell_type": "markdown",
   "metadata": {},
   "source": [
    "## 第八章 类与对象"
   ]
  },
  {
   "cell_type": "markdown",
   "metadata": {},
   "source": [
    "本章主要关注的店是和类定义有关的常用**编程模型**。包括让对象支持常见的Python特性、特殊方法的使用、类封装技术、继承、内存管理以及有用的设计模式"
   ]
  },
  {
   "cell_type": "markdown",
   "metadata": {},
   "source": [
    "### 8.1 改变对象的字符串显示"
   ]
  },
  {
   "cell_type": "markdown",
   "metadata": {},
   "source": [
    "要改变一个实例的字符串表示，可以重新定义它的 ***_str__()*** 和 ***_repr__()*** 方法，例如："
   ]
  },
  {
   "cell_type": "code",
   "execution_count": 2,
   "metadata": {
    "collapsed": true
   },
   "outputs": [],
   "source": [
    "class Pair:\n",
    "    def __init__(self,x,y):\n",
    "        self.x = x\n",
    "        self.y = y\n",
    "     \n",
    "    \n",
    "    def __repr__(self):\n",
    "        return 'Pair({0.x!r}, {0.y!r})'.format(self)\n",
    "    \n",
    "    \n",
    "    def __str__(self):\n",
    "        return '({0.x!s}, {0.y!s})'.format(self)\n",
    "    "
   ]
  },
  {
   "cell_type": "markdown",
   "metadata": {},
   "source": [
    "***`__repr__()` *** 方法是返回一个实例的**代码表示形式**，通常用来重新构造这个实例。  \n",
    "内置的***`repr() `*** 函数返回这个字符串，跟我们使用交互式解释器显示的值是一样的。\n",
    "*** `__str__() `***方法将实例转化为一个字符串，使用 ***str()***或者 ***print()***函数会输出这个字符串。例如："
   ]
  },
  {
   "cell_type": "code",
   "execution_count": 5,
   "metadata": {},
   "outputs": [
    {
     "name": "stdout",
     "output_type": "stream",
     "text": [
      "(3, 4)\n"
     ]
    }
   ],
   "source": [
    "p = Pair(3, 4)\n",
    "p\n",
    "print (p)"
   ]
  },
  {
   "cell_type": "code",
   "execution_count": 6,
   "metadata": {},
   "outputs": [
    {
     "data": {
      "text/plain": [
       "Pair(3, 4)"
      ]
     },
     "execution_count": 6,
     "metadata": {},
     "output_type": "execute_result"
    }
   ],
   "source": [
    "p"
   ]
  },
  {
   "cell_type": "markdown",
   "metadata": {},
   "source": [
    "我们在这里还演示了在格式化的时候怎样使用不同的字符串表示形式： \n",
    "**特别来讲!r** 格式化代码指明输出使用 **`__repr__() `** 来代替默认的 **` __str__() `**."
   ]
  },
  {
   "cell_type": "code",
   "execution_count": 7,
   "metadata": {},
   "outputs": [
    {
     "name": "stdout",
     "output_type": "stream",
     "text": [
      "p is {0!r} (3, 4)\n",
      "p is (3, 4)\n"
     ]
    }
   ],
   "source": [
    "print('p is {0!r}',format(p))\n",
    "print('p is {0}'.format(p))"
   ]
  },
  {
   "cell_type": "markdown",
   "metadata": {},
   "source": [
    "通常来讲，**自定义__repr__() 和 __str__() 是很好的习惯** 因为它能简化调试和实例输出。\n",
    "例如：如果仅仅只是打印输出或日志输出某个实例，那么程序员会看到实例更加详细有用的信息"
   ]
  },
  {
   "cell_type": "markdown",
   "metadata": {},
   "source": [
    "**`__repr__()`**生成的文本字符串标准做法是需要让 **eval(repr(x))== x为真 ** 如果实在没有办法，应该创建一个有用的文本表示，并使用 < 和 > 括起来。例如："
   ]
  },
  {
   "cell_type": "markdown",
   "metadata": {},
   "source": [
    "如果`__str__()`没有被定义，那么就会使用`__repr__()`代替输出\n",
    "格式化代码中的`{0.x}`对应的是第一个参数的x属性，因此0实际上就是`self`本身\n",
    "当然也可以这么写："
   ]
  },
  {
   "cell_type": "code",
   "execution_count": null,
   "metadata": {
    "collapsed": true
   },
   "outputs": [],
   "source": [
    "def __repr__(self):\n",
    "    return 'Pair(%r, %r) % (self.x, self.y)"
   ]
  }
 ],
 "metadata": {
  "kernelspec": {
   "display_name": "Python 3",
   "language": "python",
   "name": "python3"
  },
  "language_info": {
   "codemirror_mode": {
    "name": "ipython",
    "version": 3
   },
   "file_extension": ".py",
   "mimetype": "text/x-python",
   "name": "python",
   "nbconvert_exporter": "python",
   "pygments_lexer": "ipython3",
   "version": "3.6.2"
  }
 },
 "nbformat": 4,
 "nbformat_minor": 2
}
