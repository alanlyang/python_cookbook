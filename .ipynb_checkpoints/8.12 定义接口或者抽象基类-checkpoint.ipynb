{
 "cells": [
  {
   "cell_type": "markdown",
   "metadata": {},
   "source": [
    "有时候想用定义一个接口或抽象类，并且通过执行类型检查来确保子类实现了某些特定的方法"
   ]
  },
  {
   "cell_type": "code",
   "execution_count": 2,
   "metadata": {
    "collapsed": true
   },
   "outputs": [],
   "source": [
    "from abc import ABCMeta, abstractmethod\n",
    "\n",
    "#继承自抽象基类\n",
    "class IStream(metaclass=ABCMeta):\n",
    "    # 声明为抽象方法\n",
    "    @abstractmethod\n",
    "    def read(self, maxbytes=-1):\n",
    "        pass\n",
    "    \n",
    "    @abstractmethod\n",
    "    def write(self, data):\n",
    "        pass"
   ]
  },
  {
   "cell_type": "markdown",
   "metadata": {},
   "source": [
    "抽象类的一个特点是不能直接被实例化。  \n",
    "抽象类的目的就是让其他类继承并实现特定的抽象方法"
   ]
  },
  {
   "cell_type": "code",
   "execution_count": 5,
   "metadata": {},
   "outputs": [
    {
     "name": "stdout",
     "output_type": "stream",
     "text": [
      "read method shixian\n"
     ]
    }
   ],
   "source": [
    "class SocketStream(IStream):\n",
    "    def read(self, maxbytes=-1):\n",
    "        # 具体实现\n",
    "        print(\"read method shixian\")\n",
    "    \n",
    "    def write(self, data):\n",
    "        # 具体实现\n",
    "        print(\"write : {}\".format(data))\n",
    "\n",
    "sock = SocketStream()\n",
    "sock.read()"
   ]
  },
  {
   "cell_type": "markdown",
   "metadata": {},
   "source": [
    "抽象基类的一个主要用途**是在代码中检查某些类是否为特定类型**，实现特定接口："
   ]
  },
  {
   "cell_type": "code",
   "execution_count": 6,
   "metadata": {
    "collapsed": true
   },
   "outputs": [],
   "source": [
    "def serialize(obj, stream):\n",
    "    if not isinstance(stream, IStream):\n",
    "        raise TypeError('Except an IStream')\n",
    "    \n",
    "    pass"
   ]
  },
  {
   "cell_type": "markdown",
   "metadata": {},
   "source": [
    "除了通过继承这种形式，还可以**通过注册方式来让某个类实现抽象基类**："
   ]
  },
  {
   "cell_type": "code",
   "execution_count": 7,
   "metadata": {},
   "outputs": [
    {
     "data": {
      "text/plain": [
       "True"
      ]
     },
     "execution_count": 7,
     "metadata": {},
     "output_type": "execute_result"
    }
   ],
   "source": [
    "import io\n",
    "IStream.register(io.IOBase)\n",
    "f = open('./2.15 字符串中插入变量.ipynb')\n",
    "isinstance(f, IStream)"
   ]
  },
  {
   "cell_type": "markdown",
   "metadata": {},
   "source": [
    "**@abstractmethod** 还能注解静态方法、类方法和 properties.  \n",
    "只需要保证这个注解紧靠在函数定义即可："
   ]
  },
  {
   "cell_type": "code",
   "execution_count": 8,
   "metadata": {
    "collapsed": true
   },
   "outputs": [],
   "source": [
    "class A(metaclass=ABCMeta):\n",
    "    @property\n",
    "    @abstractmethod\n",
    "    def name(self):\n",
    "        pass\n",
    "    \n",
    "    @name.setter\n",
    "    @abstractmethod\n",
    "    def name(self):\n",
    "        pass\n",
    "    \n",
    "    @staticmethod\n",
    "    @abstractmethod\n",
    "    def method2():\n",
    "        pass"
   ]
  },
  {
   "cell_type": "markdown",
   "metadata": {},
   "source": [
    "标准库中有很多用到抽象类的地方。 collections 模块定义了很多容器和迭代器（序列、映射、集合等），numbers库定义了很多和数字对象有关的基类"
   ]
  },
  {
   "cell_type": "markdown",
   "metadata": {},
   "source": [
    "尽管抽象类能够让我们很方便的做类型检查，但是最好在代码中不要过多的使用它，因为python是一门动态编程语言，目的是提高灵活性。"
   ]
  }
 ],
 "metadata": {
  "kernelspec": {
   "display_name": "Python 3",
   "language": "python",
   "name": "python3"
  },
  "language_info": {
   "codemirror_mode": {
    "name": "ipython",
    "version": 3
   },
   "file_extension": ".py",
   "mimetype": "text/x-python",
   "name": "python",
   "nbconvert_exporter": "python",
   "pygments_lexer": "ipython3",
   "version": "3.6.2"
  }
 },
 "nbformat": 4,
 "nbformat_minor": 2
}
