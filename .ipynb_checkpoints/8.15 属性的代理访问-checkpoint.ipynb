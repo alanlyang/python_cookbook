{
 "cells": [
  {
   "cell_type": "markdown",
   "metadata": {},
   "source": [
    "代理模式是一种变成模式，他是**将某一个操作转交给另一个对象来实现**"
   ]
  },
  {
   "cell_type": "code",
   "execution_count": 31,
   "metadata": {},
   "outputs": [
    {
     "name": "stdout",
     "output_type": "stream",
     "text": [
      "A： 1\n",
      "A: foo\n"
     ]
    }
   ],
   "source": [
    "# 简单的代理，就是引入对象，传方法\n",
    "class A:\n",
    "    def spam(self, x):\n",
    "        print (\"A： {}\".format(x))\n",
    "    \n",
    "    def foo(self):\n",
    "        print (\"A: foo\")\n",
    "\n",
    "class B:\n",
    "    def __init__(self):\n",
    "        # 引入A的实例\n",
    "        self._a = A()\n",
    "    \n",
    "    def spam(self, x):\n",
    "        return self._a.spam(x)\n",
    "    \n",
    "    def foo(self):\n",
    "        return self._a.foo()\n",
    "\n",
    "b = B()\n",
    "b.spam(1)\n",
    "b.foo()"
   ]
  },
  {
   "cell_type": "markdown",
   "metadata": {},
   "source": [
    "当只有少量方法需要代理的时候，上面那种方法是可取的，当时，如果有大量的方法需要代理，那么使用 `__getattr__()` 方法更加合理："
   ]
  },
  {
   "cell_type": "code",
   "execution_count": 32,
   "metadata": {},
   "outputs": [
    {
     "name": "stdout",
     "output_type": "stream",
     "text": [
      "A： 34\n"
     ]
    }
   ],
   "source": [
    "class B2:\n",
    "    def __init__(self):\n",
    "        self._a = A()\n",
    "        \n",
    "    # __getattr__ 只有在当前类没有该属性时，才会调用\n",
    "    def __getattr__(self, name):\n",
    "        # 取类A中的spam方法\n",
    "        return getattr(self._a, name)\n",
    "\n",
    "b = B2()\n",
    "b.spam(34)"
   ]
  },
  {
   "cell_type": "markdown",
   "metadata": {},
   "source": [
    "或者更高级的点可以实现代理模式，例如："
   ]
  },
  {
   "cell_type": "code",
   "execution_count": 33,
   "metadata": {
    "collapsed": true
   },
   "outputs": [],
   "source": [
    "class Proxy:\n",
    "    def __init__(self, obj):\n",
    "        self._obj = obj\n",
    "    \n",
    "    # 需要实现代理的 __getattr__ ,__setattr__, __delattr__\n",
    "    def __getattr__(self):\n",
    "        pass\n",
    "    \n",
    "    def __setattr__(self):\n",
    "        pass"
   ]
  },
  {
   "cell_type": "code",
   "execution_count": null,
   "metadata": {
    "collapsed": true
   },
   "outputs": [],
   "source": []
  }
 ],
 "metadata": {
  "kernelspec": {
   "display_name": "Python 3",
   "language": "python",
   "name": "python3"
  },
  "language_info": {
   "codemirror_mode": {
    "name": "ipython",
    "version": 3
   },
   "file_extension": ".py",
   "mimetype": "text/x-python",
   "name": "python",
   "nbconvert_exporter": "python",
   "pygments_lexer": "ipython3",
   "version": "3.6.2"
  }
 },
 "nbformat": 4,
 "nbformat_minor": 2
}
