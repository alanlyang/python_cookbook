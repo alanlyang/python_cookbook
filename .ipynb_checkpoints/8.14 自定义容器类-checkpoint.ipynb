{
 "cells": [
  {
   "cell_type": "markdown",
   "metadata": {},
   "source": [
    "### 8.14 自定义容器类"
   ]
  },
  {
   "cell_type": "markdown",
   "metadata": {
    "collapsed": true
   },
   "source": [
    "想要实现一个自定义的类来模拟内置的容器类功能，例如：列表和字典，单不确定要实现哪些方法"
   ]
  },
  {
   "cell_type": "markdown",
   "metadata": {
    "collapsed": true
   },
   "source": [
    "collections 定义了很多抽象基类，当你想要自定义容器类的时候，会非常有用。例如想要让类支持迭代，则可以让类继承collections.Iterable就行了"
   ]
  },
  {
   "cell_type": "code",
   "execution_count": null,
   "metadata": {
    "collapsed": true
   },
   "outputs": [],
   "source": [
    "# collection.Iterabel的源代码\n",
    "from abc import ABCMeta, abstractmethod\n",
    "class Iterable(metaClass=ABCMeta):\n",
    "    __slots__ = ()\n",
    "    \n",
    "    @abstractmethod\n",
    "    def __iter__(self):\n",
    "        while False:\n",
    "            yield None\n",
    "        \n",
    "    @classmethod\n",
    "    def __subclasshook__(cls, C):\n",
    "        if cls is Iterable:\n",
    "            if any(\"__iter__\" in B.__dict__ for B in C.__mro__):\n",
    "                return True\n",
    "            return NotImplemented"
   ]
  },
  {
   "cell_type": "markdown",
   "metadata": {},
   "source": [
    "`__subclasshook__` 为一个类方法，@classmethod修饰的函数**不需要实例化**，不需要self参数，但第一个参数需要是表示自身类的 cls 参数，可以来调用类的属性，类的方法，实例化对象等 \n",
    "any() 用于判断是否可迭代对象中都是False, 如果都是False,则返回False， 否则返回True"
   ]
  },
  {
   "cell_type": "markdown",
   "metadata": {},
   "source": [
    "因此你需要实现collections.Iterable所有的抽象方法，也就是 `__iter__` 方法，否则就会报错"
   ]
  },
  {
   "cell_type": "code",
   "execution_count": 5,
   "metadata": {},
   "outputs": [
    {
     "name": "stdout",
     "output_type": "stream",
     "text": [
      "[1, 3, 5]\n",
      "3\n",
      "[1, 2, 3, 5]\n"
     ]
    }
   ],
   "source": [
    "import bisect\n",
    "import collections\n",
    "\n",
    "class SortedItems(collections.Sequence):\n",
    "    def __init__(self, initial=None):\n",
    "        self._items = sorted(initial) if initial is not None else []\n",
    "    \n",
    "    def __getitem__(self, index):\n",
    "        return self._items[index]\n",
    "    def __len__(self):\n",
    "        return len(self._items)\n",
    "    \n",
    "    def add(self, item):\n",
    "        # 有序列表的二分插入\n",
    "        bisect.insort(self._items, item)\n",
    "\n",
    "items = SortedItems([5,1,3])\n",
    "print (list(items))\n",
    "print(items[1])\n",
    "items.add(2)\n",
    "print(list(items))"
   ]
  },
  {
   "cell_type": "markdown",
   "metadata": {},
   "source": [
    "bisbet模块是在一个有序列表中插入元素的高效方式，内部实现为二分查找，可以保证元素插入后还保持有序"
   ]
  },
  {
   "cell_type": "markdown",
   "metadata": {},
   "source": [
    "collections 中的抽象基类可以确保你自定义的容器实现了所有必要的方法，并且还能简化类型检查，因为抽象类已经写了这个条件"
   ]
  },
  {
   "cell_type": "code",
   "execution_count": null,
   "metadata": {
    "collapsed": true
   },
   "outputs": [],
   "source": []
  }
 ],
 "metadata": {
  "kernelspec": {
   "display_name": "Python 3",
   "language": "python",
   "name": "python3"
  },
  "language_info": {
   "codemirror_mode": {
    "name": "ipython",
    "version": 3
   },
   "file_extension": ".py",
   "mimetype": "text/x-python",
   "name": "python",
   "nbconvert_exporter": "python",
   "pygments_lexer": "ipython3",
   "version": "3.6.2"
  }
 },
 "nbformat": 4,
 "nbformat_minor": 2
}
