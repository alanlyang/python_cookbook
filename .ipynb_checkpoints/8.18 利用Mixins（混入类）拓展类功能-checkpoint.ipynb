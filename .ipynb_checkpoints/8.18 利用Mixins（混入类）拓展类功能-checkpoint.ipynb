{
 "cells": [
  {
   "cell_type": "markdown",
   "metadata": {},
   "source": [
    "你有很多有用的方法，想用它来拓展其他类的功能，但是这些类并没有任何的继承关系，因此不能将这些方法放入一个基类，然后被其他类继承"
   ]
  },
  {
   "cell_type": "markdown",
   "metadata": {},
   "source": [
    "通常想要自定义类的时候会碰上这种问题，可能是某个库提供了一些基础类，你可以利用他们来构造自己的类。   \n",
    "假设你想拓展映射对象，想给他们添加日志、唯一性设置、类型检查等的功能，这种时候可以使用**混入类**来实现："
   ]
  },
  {
   "cell_type": "code",
   "execution_count": 1,
   "metadata": {
    "collapsed": true
   },
   "outputs": [],
   "source": [
    "class LoggedMappingMixin:\n",
    "    \"\"\" 添加log\n",
    "    \"\"\"\n",
    "    # 混入类通常没有实力变量，因为直接实例化混入类没有任何意义\n",
    "    __slots__ = ()\n",
    "    \n",
    "    def __getitem__(self, key):\n",
    "        print('Getting:',str(key))\n",
    "        return super().__getitem__(key)\n",
    "    \n",
    "    def __setitem__(self, key, value):\n",
    "        print('Setting {} to {}'.format(str(value), str(key)))\n",
    "        return super().__setitem__(key, value)\n",
    "    \n",
    "    def __delitem__(self, key):\n",
    "        print('Delete :{}'.format(str(key)))\n",
    "        return super().__delitem__(key)\n",
    "\n",
    "    \n",
    "class SetOnceMappingMixin:\n",
    "    \"\"\"每个键只能设置一次\n",
    "    \"\"\"\n",
    "    __slots__ = ()\n",
    "    \n",
    "    def __setitem__(self, name, value):\n",
    "        if key in self:\n",
    "            raise KeyError(str(key) + 'already set')\n",
    "        return super().__setitem__(key, value)\n",
    "\n",
    "\n",
    "class StringKeyMappingMixin:\n",
    "    \"\"\"限制key只能为str类型\n",
    "    \"\"\"\n",
    "    __slots__ = ()\n",
    "    \n",
    "    def __setitem__(self, name, value):\n",
    "        if not isinstance(name, str):\n",
    "            raise TypeError(\"Except a string\")\n",
    "        return super().__setitem__(name, value)"
   ]
  },
  {
   "cell_type": "markdown",
   "metadata": {},
   "source": [
    "混入类单独使用没有任何意义，事实上如果你去实例化任何一个类，除了产生异常外没有任何作用。\n",
    "**他们是通过多继承和其他映射对象混入使用的**"
   ]
  },
  {
   "cell_type": "code",
   "execution_count": 2,
   "metadata": {},
   "outputs": [
    {
     "name": "stdout",
     "output_type": "stream",
     "text": [
      "Setting 23 to x\n",
      "Getting: x\n",
      "23\n"
     ]
    }
   ],
   "source": [
    "class LoggedDict(LoggedMappingMixin, dict):\n",
    "    pass\n",
    "\n",
    "d = LoggedDict()\n",
    "d['x'] = 23\n",
    "print (d['x'])"
   ]
  },
  {
   "cell_type": "markdown",
   "metadata": {},
   "source": [
    "混入类在标准库中很多地方都有出现，通常都是**用来拓展某些类的功能**   \n",
    "他们也是多继承的一个主要用途。  \n",
    "例如：   \n",
    "    当编写网络代码是，经常会使用到socketserver模块中的 ThreadingMixin 来给其他网络相关类增加多线程支持。"
   ]
  },
  {
   "cell_type": "code",
   "execution_count": 3,
   "metadata": {
    "collapsed": true
   },
   "outputs": [],
   "source": [
    "from xmlrpc.server import SimpleXMLRPCDispatcher\n",
    "from socketserver import ThreadingMixIn\n",
    "\n",
    "class ThreadedXMLRPCServer(ThreadingMixIn, SimpleXMLRPCDispatcher):\n",
    "    pass"
   ]
  },
  {
   "cell_type": "markdown",
   "metadata": {},
   "source": [
    "对于混入类，需要注意的是：   \n",
    "1、混入类不能直接被实例化使用   \n",
    "2、混入类没有自己的状态信息，也就是说没有定义`__init__`方法，并且没有实例属性。这也是我们为什么在上面明确定义了`__slots__ = ()`"
   ]
  },
  {
   "cell_type": "markdown",
   "metadata": {},
   "source": [
    "另外一种实现混入类的方法是**使用类装饰器**"
   ]
  },
  {
   "cell_type": "code",
   "execution_count": 5,
   "metadata": {
    "collapsed": true
   },
   "outputs": [],
   "source": [
    "def LoggedMapping(cls):\n",
    "    cls_getitem = cls.__getitem__\n",
    "    cls_setitem = cls.__setitem__\n",
    "    cls_delitem = cls.__delitem__\n",
    "    \n",
    "    def __getitem__(self, key):\n",
    "        print('Getting ' + str(key))\n",
    "        return cls_getitem(self, key)\n",
    "\n",
    "    def __setitem__(self, key, value):\n",
    "        print('Setting {} = {!r}'.format(key, value))\n",
    "        return cls_setitem(self, key, value)\n",
    "\n",
    "    def __delitem__(self, key):\n",
    "        print('Deleting ' + str(key))\n",
    "        return cls_delitem(self, key)\n",
    "\n",
    "    cls.__getitem__ = __getitem__\n",
    "    cls.__setitem__ = __setitem__\n",
    "    cls.__delitem__ = __delitem__\n",
    "    return cls\n",
    "\n",
    "@LoggedMapping\n",
    "class LoggedDict(dict):\n",
    "    pass\n",
    "    "
   ]
  },
  {
   "cell_type": "code",
   "execution_count": null,
   "metadata": {
    "collapsed": true
   },
   "outputs": [],
   "source": []
  }
 ],
 "metadata": {
  "kernelspec": {
   "display_name": "Python 3",
   "language": "python",
   "name": "python3"
  },
  "language_info": {
   "codemirror_mode": {
    "name": "ipython",
    "version": 3
   },
   "file_extension": ".py",
   "mimetype": "text/x-python",
   "name": "python",
   "nbconvert_exporter": "python",
   "pygments_lexer": "ipython3",
   "version": "3.6.2"
  }
 },
 "nbformat": 4,
 "nbformat_minor": 2
}
