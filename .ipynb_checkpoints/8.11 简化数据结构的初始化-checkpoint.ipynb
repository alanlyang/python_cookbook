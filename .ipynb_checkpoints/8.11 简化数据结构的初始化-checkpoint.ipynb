{
 "cells": [
  {
   "cell_type": "markdown",
   "metadata": {},
   "source": [
    "有时候会写很多仅仅用作数据结构的类，但是又不想写太多的`__init__()`函数"
   ]
  },
  {
   "cell_type": "markdown",
   "metadata": {},
   "source": [
    "此时可以在一个基类中写一个公用的 `__init__()`函数"
   ]
  },
  {
   "cell_type": "code",
   "execution_count": 2,
   "metadata": {},
   "outputs": [
    {
     "data": {
      "text/plain": [
       "mappingproxy({'__dict__': <attribute '__dict__' of 'StructBase' objects>,\n",
       "              '__doc__': None,\n",
       "              '__init__': <function __main__.StructBase.__init__>,\n",
       "              '__module__': '__main__',\n",
       "              '__weakref__': <attribute '__weakref__' of 'StructBase' objects>,\n",
       "              '_fields': []})"
      ]
     },
     "execution_count": 2,
     "metadata": {},
     "output_type": "execute_result"
    }
   ],
   "source": [
    "import math\n",
    "\n",
    "class StructBase:\n",
    "    _fields = []\n",
    "    \n",
    "    def __init__(self, *args):\n",
    "        if len(args) != len(self._fields):\n",
    "            raise TypeError('Except {} arguments'.format(len(self._fields)))\n",
    "        for name,value in zip(self._fields, args):\n",
    "            setattr(self, name, value)\n",
    "\n",
    "StructBase.__dict__"
   ]
  },
  {
   "cell_type": "markdown",
   "metadata": {},
   "source": [
    "zip() 函数用于将可迭代对象作为参数，将对象中对应的元素打包成一个个元组，然后返回由这些元组组成的列表。  \n",
    "如果各个迭代器的元素个数不一致，则返回列表长度与最短的对象相同，利用 * 号运算符可以将元组解压为列表"
   ]
  },
  {
   "cell_type": "code",
   "execution_count": 4,
   "metadata": {},
   "outputs": [],
   "source": [
    "# 其他的类继承自这个基类 \n",
    "\n",
    "class Stock(StructBase):\n",
    "    _fields = ['name', 'shares', 'price']\n",
    "\n",
    "class Point(StructBase):\n",
    "    _fields = [\"x\", \"y\"]\n",
    "\n",
    "class Circle(StructBase):\n",
    "    _fields = ['radius']\n",
    "    \n",
    "    def area(self):\n",
    "        return math.pi * self.radius ** 2"
   ]
  },
  {
   "cell_type": "code",
   "execution_count": 11,
   "metadata": {},
   "outputs": [
    {
     "data": {
      "text/plain": [
       "(__main__.Stock, __main__.StructBase, object)"
      ]
     },
     "execution_count": 11,
     "metadata": {},
     "output_type": "execute_result"
    }
   ],
   "source": [
    "s = Stock('ACE', 10, 1.0)\n",
    "Stock.__mro__"
   ]
  },
  {
   "cell_type": "markdown",
   "metadata": {},
   "source": [
    "当需要大量很小的数据结构类的时候，相比手工一个个定义`__init__`方法，这种方法可以大量简化代码："
   ]
  },
  {
   "cell_type": "code",
   "execution_count": 12,
   "metadata": {
    "collapsed": true
   },
   "outputs": [],
   "source": [
    "class StructBaseV2:\n",
    "    _fields = []\n",
    "    def __init__(self, *args, **kwargs):\n",
    "        if len(self.args) != len(self._fields):\n",
    "            raise TypeError(\"Except {} arguments\".format(self._fields))\n",
    "        \n",
    "        for name, value in zip(self._fields, self.args):\n",
    "            setattr(self, name, value)\n",
    "        \n",
    "        # 处理多余的参数\n",
    "        for name in self._fields[len(args):]:\n",
    "            setattr(self, name, kwargs.pop(name))\n",
    "        \n",
    "        # 异常\n",
    "        if kwargs:\n",
    "            raise TypeError(\"Invalid arguments(s):{}\".format(\",\".join(kwargs)))\n",
    "            \n",
    "        "
   ]
  },
  {
   "cell_type": "markdown",
   "metadata": {},
   "source": [
    "通常来讲 setattr() 函数相对于直接更新实例字典来讲更通用，因为如果当一个子类定义了`__slots__`或者通过property来包装了某个属性，那么直接访问实例词典就起不了作用了。"
   ]
  }
 ],
 "metadata": {
  "kernelspec": {
   "display_name": "Python 3",
   "language": "python",
   "name": "python3"
  },
  "language_info": {
   "codemirror_mode": {
    "name": "ipython",
    "version": 3
   },
   "file_extension": ".py",
   "mimetype": "text/x-python",
   "name": "python",
   "nbconvert_exporter": "python",
   "pygments_lexer": "ipython3",
   "version": "3.6.2"
  }
 },
 "nbformat": 4,
 "nbformat_minor": 2
}
