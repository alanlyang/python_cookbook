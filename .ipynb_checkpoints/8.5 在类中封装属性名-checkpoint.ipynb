{
 "cells": [
  {
   "cell_type": "markdown",
   "metadata": {},
   "source": [
    "###  8.5 在类中封装属性名"
   ]
  },
  {
   "cell_type": "markdown",
   "metadata": {},
   "source": [
    "Python 语言没有提供访问控制，“私有”数据 通过**遵循一定的属性和方法命名规约来达到这个效果 **，\n",
    "第一个约定是 ：*** 任何一单下划线 _ 开头的名字都应该是内部实现 ***"
   ]
  },
  {
   "cell_type": "code",
   "execution_count": 1,
   "metadata": {
    "collapsed": true
   },
   "outputs": [],
   "source": [
    "class A:\n",
    "    def __init__(self):\n",
    "        # 内部变量\n",
    "        self._internal = 0\n",
    "        # 公有变量\n",
    "        self.public = 1\n",
    "    \n",
    "    \n",
    "    def public_method(self):\n",
    "        \"\"\"公有方法\n",
    "        \"\"\"\n",
    "        pass\n",
    "    \n",
    "    \n",
    "    def _internal_method(self):\n",
    "        \"\"\"私有方法\n",
    "        \"\"\"\n",
    "        pass"
   ]
  },
  {
   "cell_type": "markdown",
   "metadata": {},
   "source": [
    "当然这些变量也是可以被访问的。但是如果这么做肯定是不好的，这样会导致脆弱的代码。\n",
    "\n",
    "同时还要注意到，** 使用下划线开头的约定，童谣适合于模块名和模块级别的函数 **\n",
    "\n",
    "***在类的定义中也会见到使用（__）两个下划线开头的命名 *** \n",
    "使用双下划线开始会导致访问名称变成其他形式。\n",
    "例如："
   ]
  },
  {
   "cell_type": "code",
   "execution_count": 2,
   "metadata": {
    "collapsed": true
   },
   "outputs": [],
   "source": [
    "class B:\n",
    "    def __init__(self):\n",
    "        self.__private = 0\n",
    "        \n",
    "    \n",
    "    def __private_method(self):\n",
    "        pass\n",
    "    \n",
    "    \n",
    "    def public_method(self):\n",
    "        pass\n",
    "        self.__private_method()"
   ]
  },
  {
   "cell_type": "markdown",
   "metadata": {},
   "source": [
    "在B类中，私有属性会被分别命名为 `_B_private` 和 `_B__private_method`"
   ]
  },
  {
   "cell_type": "code",
   "execution_count": 5,
   "metadata": {},
   "outputs": [
    {
     "ename": "AttributeError",
     "evalue": "'B' object has no attribute '__private_method'",
     "output_type": "error",
     "traceback": [
      "\u001b[1;31m---------------------------------------------------------------------------\u001b[0m",
      "\u001b[1;31mAttributeError\u001b[0m                            Traceback (most recent call last)",
      "\u001b[1;32m<ipython-input-5-7f1230029d24>\u001b[0m in \u001b[0;36m<module>\u001b[1;34m()\u001b[0m\n\u001b[0;32m      1\u001b[0m \u001b[1;31m# 测试\u001b[0m\u001b[1;33m\u001b[0m\u001b[1;33m\u001b[0m\u001b[0m\n\u001b[0;32m      2\u001b[0m \u001b[0mb\u001b[0m \u001b[1;33m=\u001b[0m \u001b[0mB\u001b[0m\u001b[1;33m(\u001b[0m\u001b[1;33m)\u001b[0m\u001b[1;33m\u001b[0m\u001b[0m\n\u001b[1;32m----> 3\u001b[1;33m \u001b[0mb\u001b[0m\u001b[1;33m.\u001b[0m\u001b[0m__private_method\u001b[0m\u001b[1;33m(\u001b[0m\u001b[1;33m)\u001b[0m\u001b[1;33m\u001b[0m\u001b[0m\n\u001b[0m",
      "\u001b[1;31mAttributeError\u001b[0m: 'B' object has no attribute '__private_method'"
     ]
    }
   ],
   "source": [
    "# 测试\n",
    "b = B()\n",
    "b.__private_method()"
   ]
  },
  {
   "cell_type": "code",
   "execution_count": 6,
   "metadata": {
    "collapsed": true
   },
   "outputs": [],
   "source": [
    "b_2 = B()\n",
    "b._B__private_method()"
   ]
  },
  {
   "cell_type": "markdown",
   "metadata": {},
   "source": [
    "这样重命名的目的是为了继承，这种属性通过继承是无法覆盖的。\n",
    "例如："
   ]
  },
  {
   "cell_type": "code",
   "execution_count": 13,
   "metadata": {
    "collapsed": true
   },
   "outputs": [],
   "source": [
    "class C(B):\n",
    "    def __init__(self):\n",
    "        super().__init__()\n",
    "        # 不会覆盖掉B.__private\n",
    "        self.__private = 2"
   ]
  },
  {
   "cell_type": "code",
   "execution_count": 14,
   "metadata": {},
   "outputs": [
    {
     "data": {
      "text/plain": [
       "2"
      ]
     },
     "execution_count": 14,
     "metadata": {},
     "output_type": "execute_result"
    }
   ],
   "source": [
    "c = C()\n",
    "c._C__private"
   ]
  },
  {
   "cell_type": "markdown",
   "metadata": {},
   "source": [
    "这里的私有名称 **`_private`**被重命名为 `_C_private`，和父类B中的名称完全不同"
   ]
  },
  {
   "cell_type": "markdown",
   "metadata": {},
   "source": [
    "大多数情况下，应该***使非公共名称以单下划线开头 但是，如果清楚代码会涉及到子类，并且有些内部属性应该在子类中隐藏起来，那么菜考虑使用双下划线 ***"
   ]
  },
  {
   "cell_type": "markdown",
   "metadata": {},
   "source": [
    "此外，***如果定义的一个变量和某个保留杆件自冲突，这时可以使用单下划线作为后缀 ***\n",
    "例如：\n",
    "`lambda_ = 2.0`\n",
    "\n",
    "这里不使用单下划线，是为了避免误解他的使用初衷（*指明变量私有*）"
   ]
  }
 ],
 "metadata": {
  "kernelspec": {
   "display_name": "Python 3",
   "language": "python",
   "name": "python3"
  },
  "language_info": {
   "codemirror_mode": {
    "name": "ipython",
    "version": 3
   },
   "file_extension": ".py",
   "mimetype": "text/x-python",
   "name": "python",
   "nbconvert_exporter": "python",
   "pygments_lexer": "ipython3",
   "version": "3.6.2"
  }
 },
 "nbformat": 4,
 "nbformat_minor": 2
}
