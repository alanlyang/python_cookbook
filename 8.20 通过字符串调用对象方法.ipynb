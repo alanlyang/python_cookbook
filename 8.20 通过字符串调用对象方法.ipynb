{
 "cells": [
  {
   "cell_type": "markdown",
   "metadata": {},
   "source": [
    "如何通过字符串形式的方法名称调用某个对象的对应方法？   \n",
    "最简单的方法是使用 getattr()"
   ]
  },
  {
   "cell_type": "code",
   "execution_count": 5,
   "metadata": {},
   "outputs": [
    {
     "name": "stdout",
     "output_type": "stream",
     "text": [
      "['x', 'y', '__module__', '__init__', '__repr__', 'distance', '__dict__', '__weakref__', '__doc__', '__hash__', '__str__', '__getattribute__', '__setattr__', '__delattr__', '__lt__', '__le__', '__eq__', '__ne__', '__gt__', '__ge__', '__new__', '__reduce_ex__', '__reduce__', '__subclasshook__', '__init_subclass__', '__format__', '__sizeof__', '__dir__', '__class__']\n"
     ]
    }
   ],
   "source": [
    "import math\n",
    "\n",
    "class Point(object):\n",
    "    def __init__(self, x, y):\n",
    "        self.x = x \n",
    "        self.y = y\n",
    "    \n",
    "    def __repr__(self):\n",
    "        return (\"Point (x:{!r}, y:{!r})\".format(self.x, self.y))\n",
    "    \n",
    "    def distance(self, x, y):\n",
    "        # 返回欧几里得范数\n",
    "        return math.hypot(self.x - x, self.y - y)\n",
    "\n",
    "p = Point(2, 3)\n",
    "print(p.__dir__())"
   ]
  },
  {
   "cell_type": "code",
   "execution_count": 6,
   "metadata": {},
   "outputs": [
    {
     "data": {
      "text/plain": [
       "3.605551275463989"
      ]
     },
     "execution_count": 6,
     "metadata": {},
     "output_type": "execute_result"
    }
   ],
   "source": [
    "getattr(p, 'distance')(0, 0)"
   ]
  },
  {
   "cell_type": "markdown",
   "metadata": {},
   "source": [
    "另外一种是使用 *** operator.methodcaller() *** 例如："
   ]
  },
  {
   "cell_type": "code",
   "execution_count": 8,
   "metadata": {},
   "outputs": [
    {
     "data": {
      "text/plain": [
       "3.605551275463989"
      ]
     },
     "execution_count": 8,
     "metadata": {},
     "output_type": "execute_result"
    }
   ],
   "source": [
    "import operator\n",
    "\n",
    "operator.methodcaller('distance', 0, 0)(p)"
   ]
  },
  {
   "cell_type": "markdown",
   "metadata": {},
   "source": [
    "这种方法在通过相同参数多次调用某个方法时会很有用。例如需要排序一系列的点，可以这样做："
   ]
  },
  {
   "cell_type": "code",
   "execution_count": 11,
   "metadata": {},
   "outputs": [
    {
     "name": "stdout",
     "output_type": "stream",
     "text": [
      "[Point (x:1, y:2), Point (x:3, y:0), Point (x:3, y:2), Point (x:-1, y:8), Point (x:-5, y:-7), Point (x:10, y:-3)]\n"
     ]
    }
   ],
   "source": [
    "points = [    \n",
    "    Point(1, 2),\n",
    "    Point(3, 0),\n",
    "    Point(10, -3),\n",
    "    Point(-5, -7),\n",
    "    Point(-1, 8),\n",
    "    Point(3, 2)]\n",
    "\n",
    "points.sort(key=operator.methodcaller('distance', 0, 0))\n",
    "print(points)"
   ]
  },
  {
   "cell_type": "markdown",
   "metadata": {},
   "source": [
    "调用一个方法其实是两步独立的操作   \n",
    "第一步：查找属性   \n",
    "第二歩：函数调用   \n",
    "因此，为了调用某个方法，可以首先通过getattr() 来找到这个属性，然后再以函数方式去调用他"
   ]
  },
  {
   "cell_type": "markdown",
   "metadata": {},
   "source": [
    "operator.methodcaller() 创建了一个可调用对象，并同时提供给他所有必要参数，然后调用的时候只需要通过将实例对象传递给他即可"
   ]
  },
  {
   "cell_type": "markdown",
   "metadata": {},
   "source": [
    "**通过方法名称字符串调用方法通常出现在需要模拟case语句或者实现访问者模式的时候**"
   ]
  }
 ],
 "metadata": {
  "kernelspec": {
   "display_name": "Python 3",
   "language": "python",
   "name": "python3"
  },
  "language_info": {
   "codemirror_mode": {
    "name": "ipython",
    "version": 3
   },
   "file_extension": ".py",
   "mimetype": "text/x-python",
   "name": "python",
   "nbconvert_exporter": "python",
   "pygments_lexer": "ipython3",
   "version": "3.6.2"
  }
 },
 "nbformat": 4,
 "nbformat_minor": 2
}
