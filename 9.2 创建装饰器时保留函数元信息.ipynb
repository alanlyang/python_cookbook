{
 "cells": [
  {
   "cell_type": "markdown",
   "metadata": {},
   "source": [
    "在使用装饰器时，通常需要保证函数的重要元信息（例如名字、文档字符串、注解、参数签名）等都应该保留下来"
   ]
  },
  {
   "cell_type": "markdown",
   "metadata": {},
   "source": [
    "事实上，任何时候定义装饰器的时候，都应该使用functions库中的 @wraps 装饰器来注解底层包装函数。例如："
   ]
  },
  {
   "cell_type": "code",
   "execution_count": 3,
   "metadata": {
    "collapsed": true
   },
   "outputs": [],
   "source": [
    "import time\n",
    "from functools import wraps\n",
    "\n",
    "def time_func(func):\n",
    "    @wraps(func)\n",
    "    def wrapper(*args, **kwargs):\n",
    "        start = time.time()\n",
    "        result = func(*args, **kwargs)\n",
    "        end = time.time()\n",
    "        print(func.__name__, end-start)\n",
    "        return result\n",
    "    return wrapper"
   ]
  },
  {
   "cell_type": "code",
   "execution_count": 7,
   "metadata": {},
   "outputs": [
    {
     "name": "stdout",
     "output_type": "stream",
     "text": [
      "count 0.013000249862670898\n"
     ]
    }
   ],
   "source": [
    "@time_func\n",
    "def count(num):\n",
    "    \"\"\"计数\n",
    "    \"\"\"\n",
    "    while num > 0:\n",
    "        num -= 1\n",
    "\n",
    "count(100000)"
   ]
  },
  {
   "cell_type": "code",
   "execution_count": 8,
   "metadata": {},
   "outputs": [
    {
     "name": "stdout",
     "output_type": "stream",
     "text": [
      "count\n",
      "计数\n",
      "    \n"
     ]
    }
   ],
   "source": [
    "# 查看元信息\n",
    "print(count.__name__)\n",
    "print(count.__doc__)"
   ]
  },
  {
   "cell_type": "markdown",
   "metadata": {},
   "source": [
    "编写装饰器时赋值元信息是非常重要的    \n",
    "@wraps 有一个重要特性就是它能让你通过属性 `__wrapped__`直接访问被包装的函数"
   ]
  },
  {
   "cell_type": "markdown",
   "metadata": {},
   "source": [
    "`__wrapped__`属性还能让被装饰函数正确暴露底层的参数签名信息，如果想自己手动实现的话乣做大量的工作，因此最好使用 @warp 装饰器，通过底层的 `__wrapped__` 属性访问到函数签名信息"
   ]
  },
  {
   "cell_type": "markdown",
   "metadata": {},
   "source": [
    "此外，并不是所有的装饰器都使用了@wraps ，特别是内置的装饰器 @staticmethod和@classmethod 就没有遵循这个约定，他们把原始属性存储在 `__func__`中"
   ]
  }
 ],
 "metadata": {
  "kernelspec": {
   "display_name": "Python 3",
   "language": "python",
   "name": "python3"
  },
  "language_info": {
   "codemirror_mode": {
    "name": "ipython",
    "version": 3
   },
   "file_extension": ".py",
   "mimetype": "text/x-python",
   "name": "python",
   "nbconvert_exporter": "python",
   "pygments_lexer": "ipython3",
   "version": "3.6.2"
  }
 },
 "nbformat": 4,
 "nbformat_minor": 2
}
