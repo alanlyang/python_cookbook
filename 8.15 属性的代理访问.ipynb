{
 "cells": [
  {
   "cell_type": "markdown",
   "metadata": {},
   "source": [
    "代理模式是一种变成模式，他是**将某一个操作转交给另一个对象来实现**"
   ]
  },
  {
   "cell_type": "code",
   "execution_count": 31,
   "metadata": {},
   "outputs": [
    {
     "name": "stdout",
     "output_type": "stream",
     "text": [
      "A： 1\n",
      "A: foo\n"
     ]
    }
   ],
   "source": [
    "# 简单的代理，就是引入对象，传方法\n",
    "class A:\n",
    "    def spam(self, x):\n",
    "        print (\"A： {}\".format(x))\n",
    "    \n",
    "    def foo(self):\n",
    "        print (\"A: foo\")\n",
    "\n",
    "class B:\n",
    "    def __init__(self):\n",
    "        # 引入A的实例\n",
    "        self._a = A()\n",
    "    \n",
    "    def spam(self, x):\n",
    "        return self._a.spam(x)\n",
    "    \n",
    "    def foo(self):\n",
    "        return self._a.foo()\n",
    "\n",
    "b = B()\n",
    "b.spam(1)\n",
    "b.foo()"
   ]
  },
  {
   "cell_type": "markdown",
   "metadata": {},
   "source": [
    "当只有少量方法需要代理的时候，上面那种方法是可取的，当时，如果有大量的方法需要代理，那么使用 `__getattr__()` 方法更加合理："
   ]
  },
  {
   "cell_type": "code",
   "execution_count": 32,
   "metadata": {},
   "outputs": [
    {
     "name": "stdout",
     "output_type": "stream",
     "text": [
      "A： 34\n"
     ]
    }
   ],
   "source": [
    "class B2:\n",
    "    def __init__(self):\n",
    "        self._a = A()\n",
    "        \n",
    "    # __getattr__ 只有在当前类没有该属性时，才会调用\n",
    "    def __getattr__(self, name):\n",
    "        # 取类A中的spam方法\n",
    "        return getattr(self._a, name)\n",
    "\n",
    "b = B2()\n",
    "b.spam(34)"
   ]
  },
  {
   "cell_type": "markdown",
   "metadata": {},
   "source": [
    "或者更高级的点可以实现代理模式，例如："
   ]
  },
  {
   "cell_type": "code",
   "execution_count": 34,
   "metadata": {
    "collapsed": true
   },
   "outputs": [],
   "source": [
    "class Proxy:\n",
    "    def __init__(self, obj):\n",
    "        self._obj = obj\n",
    "    \n",
    "    # 需要实现代理的 __getattr__ ,__setattr__, __delattr__\n",
    "    def __getattr__(self, name):\n",
    "        print(\"getattr:\",name)\n",
    "        return getattr(self._obj, name)\n",
    "    \n",
    "    def __setattr__(self, name, value):\n",
    "        # 如果是私有属性，调用父类的方法\n",
    "        if name.startswith('_'):\n",
    "            super().__setattr__(name, value)\n",
    "        else:\n",
    "            # 否则,委托给obj代理\n",
    "            print('setattr:', name, value)\n",
    "            setattr(self._obj, name, value)\n",
    "    \n",
    "    def __delattr__(self, name):\n",
    "        if name.startswith('_'):\n",
    "            super().__delattr__(name)\n",
    "        else:\n",
    "            print(\"delattr:\", name)\n",
    "            delattr(self._obj, name)"
   ]
  },
  {
   "cell_type": "markdown",
   "metadata": {},
   "source": [
    "当使用这个代理类的时候，需要用它包装其他类："
   ]
  },
  {
   "cell_type": "code",
   "execution_count": 41,
   "metadata": {},
   "outputs": [
    {
     "name": "stdout",
     "output_type": "stream",
     "text": [
      "getattr: bar\n",
      "Spam.bar: 2 3\n"
     ]
    }
   ],
   "source": [
    "class Spam:\n",
    "    def __init__(self, x):\n",
    "        self.x = x\n",
    "    \n",
    "    def bar(self, y):\n",
    "        print('Spam.bar:',self.x, y)\n",
    "\n",
    "s = Spam(2)\n",
    "p = Proxy(s)\n",
    "# 由于p中没有bar 这个属性，因此会通过 __getattr__ 调用Spam的 bar方法\n",
    "p.bar(3)"
   ]
  },
  {
   "cell_type": "markdown",
   "metadata": {},
   "source": [
    "当使用代理模式是，有些细节需要注意：   \n",
    "\n",
    "首先，`__getattr__()`实际是一个备用方法，只有在属性不存在时才会进行调用。因此，如果代理类本省有这个属性的话，是不会触发这个方法的。     \n",
    "\n",
    "其次，`__setattr__()`和`__delattr__()`需要额外的条件来区分代理实例和被代理实例`_obj`属性，通常的约定是**只代理哪些不以`_`开头的属性**，即代理类只暴露被代理类的公共属性。   \n",
    "  \n",
    "最后，`__getattr__()`对于**大部分以双下划线开头和结尾的属性（内置属性）不适用**"
   ]
  },
  {
   "cell_type": "code",
   "execution_count": 47,
   "metadata": {
    "scrolled": true
   },
   "outputs": [
    {
     "data": {
      "text/plain": [
       "mappingproxy({'__dict__': <attribute '__dict__' of 'ListLike' objects>,\n",
       "              '__doc__': '__getattr__对于双下划线开始和结尾的方法是不能用的，需要一个个去重定义',\n",
       "              '__getattr__': <function __main__.ListLike.__getattr__>,\n",
       "              '__init__': <function __main__.ListLike.__init__>,\n",
       "              '__module__': '__main__',\n",
       "              '__weakref__': <attribute '__weakref__' of 'ListLike' objects>})"
      ]
     },
     "execution_count": 47,
     "metadata": {},
     "output_type": "execute_result"
    }
   ],
   "source": [
    "class ListLike:\n",
    "    \"\"\"__getattr__对于双下划线开始和结尾的方法是不能用的，需要一个个去重定义\"\"\"\n",
    "\n",
    "    def __init__(self):\n",
    "        self._items = []\n",
    "\n",
    "    def __getattr__(self, name):\n",
    "        return getattr(self._items, name)\n",
    "\n",
    "a = ListLike()\n",
    "ListLike.__dict__\n"
   ]
  },
  {
   "cell_type": "markdown",
   "metadata": {},
   "source": [
    "即便 list 类有 `__len__`方法，但是 `__getattr__`却无法使用代理，因为`__getattr__`钩子对于以双下划线开头的方法无法生效，想要使用，需要在代理类中进行复写"
   ]
  },
  {
   "cell_type": "code",
   "execution_count": 49,
   "metadata": {
    "collapsed": true
   },
   "outputs": [],
   "source": [
    "class ListLike:\n",
    "    \"\"\"__getattr__对于双下划线开始和结尾的方法是不能用的，需要一个个去重定义\"\"\"\n",
    "\n",
    "    def __init__(self):\n",
    "        self._items = []\n",
    "\n",
    "    def __getattr__(self, name):\n",
    "        return getattr(self._items, name)\n",
    "\n",
    "    # Added special methods to support certain list operations\n",
    "    def __len__(self):\n",
    "        return len(self._items)\n",
    "\n",
    "    def __getitem__(self, index):\n",
    "        return self._items[index]\n",
    "\n",
    "    def __setitem__(self, index, value):\n",
    "        self._items[index] = value\n",
    "\n",
    "    def __delitem__(self, index):\n",
    "        del self._items[index]"
   ]
  }
 ],
 "metadata": {
  "kernelspec": {
   "display_name": "Python 3",
   "language": "python",
   "name": "python3"
  },
  "language_info": {
   "codemirror_mode": {
    "name": "ipython",
    "version": 3
   },
   "file_extension": ".py",
   "mimetype": "text/x-python",
   "name": "python",
   "nbconvert_exporter": "python",
   "pygments_lexer": "ipython3",
   "version": "3.6.2"
  }
 },
 "nbformat": 4,
 "nbformat_minor": 2
}
