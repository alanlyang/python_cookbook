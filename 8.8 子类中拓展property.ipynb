{
 "cells": [
  {
   "cell_type": "markdown",
   "metadata": {},
   "source": [
    "有时候，我们会想拓展定义在父类中的property功能"
   ]
  },
  {
   "cell_type": "code",
   "execution_count": 3,
   "metadata": {},
   "outputs": [],
   "source": [
    "class Person:\n",
    "    def __init__(self, name):\n",
    "        self.name = name\n",
    "    \n",
    "    # getter function\n",
    "    @property\n",
    "    def name(self):\n",
    "        return self._name\n",
    "    \n",
    "    # setter function\n",
    "    @name.setter\n",
    "    def name(self, value):\n",
    "        if not isinstance(value, str):\n",
    "            raise TypeError('Except a string')\n",
    "        else:\n",
    "            self._name = value\n",
    "            \n",
    "    # deleter function\n",
    "    @name.deleter\n",
    "    def name(self):\n",
    "        raise AttributeError(\"Can't delete attribute\")\n",
    "\n",
    "# 继承Person 并 拓展 name 属性的功能\n",
    "class SubPerson(Person):\n",
    "    @property\n",
    "    def name(self):\n",
    "        print('Getting name')\n",
    "        return super().name\n",
    "    \n",
    "    @name.setter\n",
    "    def name(self, value):\n",
    "        print('Setting name to %s ' % value)\n",
    "        super(SubPerson, SubPerson).name.__set__(self, value)\n",
    "        \n",
    "    @name.deleter\n",
    "    def name(self):\n",
    "        print(\"Delete Name\")\n",
    "        super(SubPerson, SubPerson).name.__delete__(self)"
   ]
  },
  {
   "cell_type": "code",
   "execution_count": 5,
   "metadata": {},
   "outputs": [
    {
     "name": "stdout",
     "output_type": "stream",
     "text": [
      "Setting name to liyang \n",
      "Getting name\n"
     ]
    },
    {
     "data": {
      "text/plain": [
       "'liyang'"
      ]
     },
     "execution_count": 5,
     "metadata": {},
     "output_type": "execute_result"
    }
   ],
   "source": [
    "s = SubPerson(\"liyang\")\n",
    "s.name"
   ]
  },
  {
   "cell_type": "markdown",
   "metadata": {},
   "source": [
    "拓展属性通过继承 + super() 的方法即可实现属性的拓展  \n",
    "如果仅仅想要拓展property的某一个方法，可以像下面这样写：  "
   ]
  },
  {
   "cell_type": "code",
   "execution_count": 6,
   "metadata": {
    "collapsed": true
   },
   "outputs": [],
   "source": [
    "class ThirdPerson(Person):\n",
    "    @Person.name.getter\n",
    "    def name(self):\n",
    "        print(\"Third getting name\")\n",
    "        return super().name"
   ]
  },
  {
   "cell_type": "markdown",
   "metadata": {},
   "source": [
    "对子类中拓展一个property可能会引起很多不易察觉的问题。  \n",
    "** property 其实是 getter 、 setter 、 deleter 方法的集合**，而不是单个方法。因此，当要拓展一个property的时候，需要先确定是否要重新定义所有方法还是说只修改其中的一个"
   ]
  },
  {
   "cell_type": "markdown",
   "metadata": {},
   "source": [
    "第一个例子中，所有的property方法都被重新定义。在每一个方法中，使用了super()来调用父类的实现。在setter函数中使用 `super(subPerson, subPerson).name.__set__(self, value)`是没有错的。为了委托给之前定义的setter方法，需要将控制权传递给之前定义的 name 的 `__set__()` 方法，而获取这个方法的唯一途径是**使用类变量，而不是实例变量 **"
   ]
  },
  {
   "cell_type": "markdown",
   "metadata": {},
   "source": [
    "如果只想替换其中的某一个变量，直接使用 @property 是没有用的，而应该使用 @Person.name.getter ，这样之前定义过的方法会被复制过来，而getter函数会被替换"
   ]
  },
  {
   "cell_type": "markdown",
   "metadata": {},
   "source": [
    "在这种方法中，无法使用更加通用的方法去替换硬编码的 Person 类名。 如果无法知道是哪个基类定义了property， 那么 **只能通过重新定义所有的property并使用super()来将控制权传递给前面的实现 **"
   ]
  },
  {
   "cell_type": "markdown",
   "metadata": {},
   "source": [
    "上述的方法还可以被用来拓展一个**描述器**   \n",
    "**描述器：** 一般来说，一个描述器是一个由“绑定行为”的对象属性（object attribute），他的*访问控制*被描述器协议方法重写。这些方法是 `__set__() 、 __get__() 、 __delete__()`，有这些方法的对象焦作描述器"
   ]
  },
  {
   "cell_type": "markdown",
   "metadata": {},
   "source": [
    "默认对属性的访问是从对象的字典（`__dict__`）中获取(`get, set, delete`)。例如 a.x 的查找顺\n",
    "序是 `a.__dict__['x']`，然后`type(a).__dict__['x']`,然后找 `type(a)`的父类（不包括元类metaclass）。如果查到的值是一个描述器，python会调用描述器的方法来重写默认的控制行为。这个重写发生在哪个环节，取决于定义了哪个描述器方法。需要注意的是，只有在新式类（new-style class）中描述器才会起作用\n"
   ]
  },
  {
   "cell_type": "markdown",
   "metadata": {},
   "source": [
    "描述器在python代码中被广泛应用。描述器是**属性、实例方法、静态方法、类方法和super 的背后实现机制**"
   ]
  },
  {
   "cell_type": "code",
   "execution_count": 7,
   "metadata": {
    "collapsed": true
   },
   "outputs": [],
   "source": [
    "# 一个描述器\n",
    "class String:\n",
    "    def __init__(self, name):\n",
    "        self.name = name\n",
    "    \n",
    "    def __get__(self, instance, cls):\n",
    "        if instance is None:\n",
    "            return self\n",
    "        return instance.__dict__[self.name]\n",
    "    \n",
    "    def __set__(self, instance, value):\n",
    "        if not isinstance(value, str):\n",
    "            raise TypeError('Expect a String')\n",
    "        instance.__dict__[self.name] = value\n",
    "\n",
    "# 一个带有描述器的类\n",
    "class Person:\n",
    "    name = String('name')\n",
    "    def __init__(self, name):\n",
    "        self.name = name\n",
    "\n",
    "# 拓展一个描述器的属性\n",
    "class SubPerson(Person):\n",
    "    @property\n",
    "    def name(self):\n",
    "        print (\"Getting name\")\n",
    "        return super().name\n",
    "\n",
    "    @name.setter\n",
    "    def name(self, value):\n",
    "        print(\"Setting name to\", value)\n",
    "        super(SubPerson, SubPerson).name.__set__(self, value)\n",
    "    \n",
    "    @name.deleter\n",
    "    def name(self, value):\n",
    "        print(\"Delete name\")\n",
    "        super(SubPerson, SubPerson).name.__delete__(self)"
   ]
  }
 ],
 "metadata": {
  "kernelspec": {
   "display_name": "Python 3",
   "language": "python",
   "name": "python3"
  },
  "language_info": {
   "codemirror_mode": {
    "name": "ipython",
    "version": 3
   },
   "file_extension": ".py",
   "mimetype": "text/x-python",
   "name": "python",
   "nbconvert_exporter": "python",
   "pygments_lexer": "ipython3",
   "version": "3.6.2"
  }
 },
 "nbformat": 4,
 "nbformat_minor": 2
}
