{
 "cells": [
  {
   "cell_type": "markdown",
   "metadata": {},
   "source": [
    "### 3.14 计算当前月份的日期范围"
   ]
  },
  {
   "cell_type": "markdown",
   "metadata": {},
   "source": [
    "当代码中需要在当前月份中循环每一天，你想找到一个计算这个日期范围的高效方法。"
   ]
  },
  {
   "cell_type": "markdown",
   "metadata": {},
   "source": [
    "在这样的日期上循环需要事先构造一个包含所有日期的列表  \n",
    "　你可以先计算出开始日期和结束日期，然后在歩进的时候使用**datetime.timedelta**对象进行日期递增"
   ]
  },
  {
   "cell_type": "code",
   "execution_count": 15,
   "metadata": {
    "collapsed": true
   },
   "outputs": [],
   "source": [
    "#datetime模块用于对时间日期的操作\n",
    "from datetime import date,datetime,timedelta\n",
    "#calendar模块实现了一些类来处理日期，管理面向年、月、周的值\n",
    "import calendar\n",
    "from time import strftime\n",
    "\n",
    "def get_month_range(start_date=None):\n",
    "    \n",
    "    if start_date is None:\n",
    "        #初始为每月的1号\n",
    "        start_date = date.today().replace(day=1)\n",
    "    \n",
    "    #获取这个月有多少天\n",
    "    _,days_in_month = calendar.monthrange(start_date.year,start_date.month)\n",
    "    #计算终止日期\n",
    "    end_date = start_date + timedelta(days=days_in_month)\n",
    "    \n",
    "    return(start_date,end_date)\n",
    "        "
   ]
  },
  {
   "cell_type": "code",
   "execution_count": 20,
   "metadata": {},
   "outputs": [],
   "source": [
    "a_day = timedelta(days=1)\n",
    "first_day,last_day = get_month_range()\n",
    "while first_day < last_day:\n",
    "    #print(first_day)\n",
    "    first_day += a_day"
   ]
  },
  {
   "cell_type": "code",
   "execution_count": 21,
   "metadata": {},
   "outputs": [
    {
     "data": {
      "text/plain": [
       "datetime.date(2018, 8, 31)"
      ]
     },
     "execution_count": 21,
     "metadata": {},
     "output_type": "execute_result"
    }
   ],
   "source": [
    "date.today()"
   ]
  },
  {
   "cell_type": "code",
   "execution_count": 23,
   "metadata": {},
   "outputs": [
    {
     "data": {
      "text/plain": [
       "datetime.datetime(2018, 8, 31, 14, 43, 33, 105192)"
      ]
     },
     "execution_count": 23,
     "metadata": {},
     "output_type": "execute_result"
    }
   ],
   "source": [
    "datetime.today()"
   ]
  },
  {
   "cell_type": "markdown",
   "metadata": {},
   "source": [
    "上述代码先计算出一个对应月份的第一天的日期。一个快速的方法就是使用date的datetime对象的replace()方法 简单的将 days 属性设置为1 即可"
   ]
  },
  {
   "cell_type": "markdown",
   "metadata": {},
   "source": [
    "**replace**方法的一个好处就是它会创建和你开始传入对象类型相同的对象。所以，输入参数是一个**date**实例，那么结果也是一个**date**实例"
   ]
  },
  {
   "cell_type": "markdown",
   "metadata": {},
   "source": [
    "然后，使用**calendar.monthrange()**函数来找出该月的总天数。任何时候如果想要获得**日历信息**,那么**calendar（翻译过来是历法）**模块就会很有用了。**monthrange()**函数会返回包含星期和该月天数的元组"
   ]
  },
  {
   "cell_type": "markdown",
   "metadata": {},
   "source": [
    "为了在日期方位上循环，需要用到标准的数学和比较运算，比如：可以利用timedelta实例来递增日期，< 小于号用来检查一个日期是否在结束日期之前"
   ]
  },
  {
   "cell_type": "markdown",
   "metadata": {},
   "source": [
    "理想情况下，如果能为日期迭代创建一个同内置的**range**函数一样的函数就好了。这个可以用**生成器**来实现："
   ]
  },
  {
   "cell_type": "code",
   "execution_count": 24,
   "metadata": {
    "collapsed": true
   },
   "outputs": [],
   "source": [
    "def date_range(start,stop,step):\n",
    "    while start < stop:\n",
    "        yield start\n",
    "        start += step"
   ]
  },
  {
   "cell_type": "code",
   "execution_count": 27,
   "metadata": {},
   "outputs": [
    {
     "name": "stdout",
     "output_type": "stream",
     "text": [
      "2018-08-01 00:00:00\n",
      "2018-08-03 00:00:00\n",
      "2018-08-05 00:00:00\n"
     ]
    }
   ],
   "source": [
    "for d in date_range(datetime(2018,8,1),datetime(2018,8,6),timedelta(days=2)):\n",
    "    print(d)"
   ]
  }
 ],
 "metadata": {
  "kernelspec": {
   "display_name": "Python 3",
   "language": "python",
   "name": "python3"
  },
  "language_info": {
   "codemirror_mode": {
    "name": "ipython",
    "version": 3
   },
   "file_extension": ".py",
   "mimetype": "text/x-python",
   "name": "python",
   "nbconvert_exporter": "python",
   "pygments_lexer": "ipython3",
   "version": "3.6.2"
  }
 },
 "nbformat": 4,
 "nbformat_minor": 2
}
