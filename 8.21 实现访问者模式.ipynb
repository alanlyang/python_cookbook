{
 "cells": [
  {
   "cell_type": "markdown",
   "metadata": {},
   "source": [
    "访问者模式，是**行为型设计模式**之一。访问者模式是一种将数据操作与数据结构分离的设计模式。"
   ]
  },
  {
   "cell_type": "markdown",
   "metadata": {},
   "source": [
    "访问者模式的基本思想是：  \n",
    "软件系统中拥有一个由许多对象构成的、比较稳定的对象结构，   \n",
    "这些对象的类都拥有一个**accept**方法来接收访问者对象的访问。   \n",
    "访问者是一个接口，拥有一个**visit**方法，这个方法对访问到的对象结构中不同类型的元素作出不同的处理。 在对象结构的一次访问过程中， 会遍历整个对象结构，对每一个元素都实施 accept 方法，在每一个元素的 accept 方法中会调用访问者的 visit 方法，从而是访问者得以处理对象结构的每一个元素， 可以针对对象结构设计不同的访问者类来完成不同的操作，达到区别对待的效果"
   ]
  },
  {
   "cell_type": "markdown",
   "metadata": {},
   "source": [
    "定义：封装一些作用于某种数据结构中的各元素的操作，它可以在不改变这个数据结构的前提下定义作用于这些元素的操作。"
   ]
  },
  {
   "cell_type": "markdown",
   "metadata": {},
   "source": [
    "使用场景：   \n",
    "1） 对象结构比较稳定，当经常需要在此对象结构上定义新的操作   \n",
    "2） 需要对一个对象结构中的对象进行很多不同的且不相关的操作，而需要避免这些操作“污染”这些对象的类，也不希望在增加新操作时修改这些类。"
   ]
  },
  {
   "cell_type": "markdown",
   "metadata": {},
   "source": [
    "这种问题在编程领域中很常见，有时候会构建一个由大量不同对象醉成的数据结构。   \n",
    "例如，要写一个标识数学表达式的程序，那么可能要定义下面这些类："
   ]
  },
  {
   "cell_type": "code",
   "execution_count": 1,
   "metadata": {
    "collapsed": true
   },
   "outputs": [],
   "source": [
    "class Node:\n",
    "    pass\n",
    "\n",
    "# 一元操作符类\n",
    "class UnaryOperator(Node):\n",
    "    def __init__(self, operand):\n",
    "        self.operand = operand\n",
    "    \n",
    "# 二元操作符类\n",
    "class BinaryOperator(Node):\n",
    "    def __init__(self, left, right):\n",
    "        self.left = left\n",
    "        self.right = right\n",
    "    \n",
    "class Add(BinaryOperator):\n",
    "    pass\n",
    "\n",
    "class Sub(BinaryOperator):\n",
    "    pass\n",
    "\n",
    "class Mul(BinaryOperator):\n",
    "    pass\n",
    "\n",
    "class Div(BinaryOperator):\n",
    "    pass\n",
    "\n",
    "class Negate(UnaryOperator):\n",
    "    pass\n",
    "\n",
    "class Number(Node):\n",
    "    def __init__(self, value):\n",
    "        self.value = value"
   ]
  },
  {
   "cell_type": "markdown",
   "metadata": {},
   "source": [
    "然后利用这些类，构造嵌套数据结构："
   ]
  },
  {
   "cell_type": "code",
   "execution_count": 2,
   "metadata": {
    "collapsed": true
   },
   "outputs": [],
   "source": [
    "# 1+2*（3-4）/5\n",
    "t1 = Sub(Number(3), Number(4))\n",
    "t2 = Mul(Number(2), t1)\n",
    "t3 = Div(t2, Number(5))\n",
    "t4 = Add(Number(1), t3)"
   ]
  },
  {
   "cell_type": "markdown",
   "metadata": {},
   "source": [
    "这样写的问题是对于每个表达式，每次都要重新定义一遍，使用访问者模式可以很容易解决这个问题"
   ]
  },
  {
   "cell_type": "code",
   "execution_count": 3,
   "metadata": {
    "collapsed": true
   },
   "outputs": [],
   "source": [
    "class NodeVisitor:\n",
    "    def visit(self, node):\n",
    "        methodname = 'visit_' + type(node).__name__\n",
    "        method = getattr(self, methodname, None)\n",
    "        if method is None:\n",
    "            method = self.generic_visit\n",
    "        return method(node)\n",
    "    \n",
    "    def generic_visit(self, node):\n",
    "        raise RuntimeError('No {} method'.format('visit_'+type(node).__name__))"
   ]
  },
  {
   "cell_type": "markdown",
   "metadata": {},
   "source": [
    "为了使用这个类，可以定义一个类继承并实现各种 `visit_Name()` 方法，其中Name是node类型。例如如果想求表达式的值，可以这么写："
   ]
  },
  {
   "cell_type": "code",
   "execution_count": 4,
   "metadata": {
    "collapsed": true
   },
   "outputs": [],
   "source": [
    "class Evaluator(NodeVisitor):\n",
    "    def visit_Number(self, node):\n",
    "        return node.value\n",
    "    \n",
    "    def visit_Add(self, node):\n",
    "        return self.visit(node.left) + self.visit(node.right)\n",
    "    \n",
    "    def visit_Sub(self, node):\n",
    "        return self.visit(node.left) - self.visit(node.right)\n",
    "    \n",
    "    def visit_Mul(self, node):\n",
    "        return self.visit(node.left) * self.visit(node.right)\n",
    "    \n",
    "    def visit_Div(self, node):\n",
    "        return self.visit(node.left) / self.visit(node.right)\n",
    "    \n",
    "    def visit_Negate(self, node):\n",
    "        return -node.operand"
   ]
  },
  {
   "cell_type": "code",
   "execution_count": 5,
   "metadata": {},
   "outputs": [
    {
     "data": {
      "text/plain": [
       "0.6"
      ]
     },
     "execution_count": 5,
     "metadata": {},
     "output_type": "execute_result"
    }
   ],
   "source": [
    "e = Evaluator()\n",
    "e.visit(t4)"
   ]
  },
  {
   "cell_type": "markdown",
   "metadata": {},
   "source": [
    "作为一个不同的例子，下面定义一个类在一个栈上面将一个表达式转化为多个操作序列："
   ]
  },
  {
   "cell_type": "code",
   "execution_count": 9,
   "metadata": {},
   "outputs": [],
   "source": [
    "class StackCode(NodeVisitor):\n",
    "    def generate_code(self, node):\n",
    "        self.instructions = []\n",
    "        self.visit(node)\n",
    "        return self.instructions\n",
    "    \n",
    "    def visit_Number(self, node):\n",
    "        self.instructions.append(('PUSH', node.value))\n",
    "    \n",
    "    def binop(self, node, instructions):\n",
    "        self.visit(node.left)\n",
    "        self.visit(node.right)\n",
    "        self.instructions.append((instructions,))\n",
    "    \n",
    "    def visit_Add(self, node):\n",
    "        self.binop(node, 'ADD')\n",
    "\n",
    "    def visit_Sub(self, node):\n",
    "        self.binop(node, 'SUB')\n",
    "\n",
    "    def visit_Mul(self, node):\n",
    "        self.binop(node, 'MUL')\n",
    "\n",
    "    def visit_Div(self, node):\n",
    "        self.binop(node, 'DIV')\n",
    "\n",
    "    def unaryop(self, node, instruction):\n",
    "        self.visit(node.operand)\n",
    "        self.instructions.append((instruction,))\n",
    "\n",
    "    def visit_Negate(self, node):\n",
    "\n",
    "        self.unaryop(node, 'NEG')"
   ]
  },
  {
   "cell_type": "code",
   "execution_count": 10,
   "metadata": {},
   "outputs": [
    {
     "data": {
      "text/plain": [
       "[('PUSH', 1),\n",
       " ('PUSH', 2),\n",
       " ('PUSH', 3),\n",
       " ('PUSH', 4),\n",
       " ('SUB',),\n",
       " ('MUL',),\n",
       " ('PUSH', 5),\n",
       " ('DIV',),\n",
       " ('ADD',)]"
      ]
     },
     "execution_count": 10,
     "metadata": {},
     "output_type": "execute_result"
    }
   ],
   "source": [
    "s = StackCode()\n",
    "s.generate_code(t4)"
   ]
  },
  {
   "cell_type": "markdown",
   "metadata": {},
   "source": [
    "相对于使用大量的if/else语句，访问者模式的好处就是通过 gettattr() 来获取对应的方法，并利用递归来遍历所有的节点.  \n",
    "这种技术也是其他语言中switch 或 case 语句的方法。比如：如果你正在写一个HTTP框架，可能学这样写一个请求分发的控制器："
   ]
  },
  {
   "cell_type": "code",
   "execution_count": 11,
   "metadata": {
    "collapsed": true
   },
   "outputs": [],
   "source": [
    "class HTTPHandler:\n",
    "    def handle(self, request):\n",
    "        methname = 'do_' + request.request_method\n",
    "        getattr(self, methname)(request)\n",
    "        \n",
    "    def do_GET(self, request):\n",
    "        pass\n",
    "    \n",
    "    def do_POST(self, request):\n",
    "        pass\n",
    "    \n",
    "    def do_HEAD(self, request):\n",
    "        pass"
   ]
  },
  {
   "cell_type": "markdown",
   "metadata": {},
   "source": [
    "访问者模式的一个缺点就是严重依赖于递归，如果数据结构嵌套层次太深可能会有问题，有时会超过Python的递归深度限制。  \n",
    "`sys.getrecursionlimit()`   \n",
    "此时可以利用生成器或者迭代器来实现非递归遍历运算   \n",
    "在解析和编译相关的编程中，python本身的ast模块可以看一下"
   ]
  }
 ],
 "metadata": {
  "kernelspec": {
   "display_name": "Python 3",
   "language": "python",
   "name": "python3"
  },
  "language_info": {
   "codemirror_mode": {
    "name": "ipython",
    "version": 3
   },
   "file_extension": ".py",
   "mimetype": "text/x-python",
   "name": "python",
   "nbconvert_exporter": "python",
   "pygments_lexer": "ipython3",
   "version": "3.6.2"
  }
 },
 "nbformat": 4,
 "nbformat_minor": 2
}
