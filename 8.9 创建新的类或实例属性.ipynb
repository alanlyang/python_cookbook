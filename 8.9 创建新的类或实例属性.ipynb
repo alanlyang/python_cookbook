{
 "cells": [
  {
   "cell_type": "markdown",
   "metadata": {},
   "source": [
    "如果想要创建一个全新的实例属性，可以通过一个描述器类的形式来定义它的功能。描述器的定义在8.8中已经进行了描述。其实就是一个包含特定方法的类"
   ]
  },
  {
   "cell_type": "markdown",
   "metadata": {},
   "source": [
    "#### 描述器协议\n",
    "`descr.__get__(self, obj, type=None) ----> value`  \n",
    "`descr.__set__(self, obj, value) ----> None`  \n",
    "`descr.__delete__(self, obj) ----> None` \n",
    "这是所有的描述器方法。一个对象具有其中任意一个方法就会成为描述器，从而在被当做对象属性时重写默认的查找行为  \n",
    "如果一个对象同时定义了`__get__()` 和 `__set__()`，他叫做资料描述器。  \n",
    "仅定义了`__get__()`方法的描述器叫做非资料描述器 \n",
    "  \n",
    "资料描述器和非资料描述器的区别在于：相对于实例的字典优先级，如果实例字典中有与描述器同名的属性，如果是资料描述器，优先使用资料描述器，如果是非资料描述器，优先使用字典中的属性"
   ]
  },
  {
   "cell_type": "markdown",
   "metadata": {},
   "source": [
    "如果实例 a 的方法和属性都叫foo时，Python会在访问a.foo时，优先访问实例字典中的属性，因为实例字典是一个非资料描述器"
   ]
  },
  {
   "cell_type": "code",
   "execution_count": 4,
   "metadata": {},
   "outputs": [
    {
     "data": {
      "text/plain": [
       "'liyang'"
      ]
     },
     "execution_count": 4,
     "metadata": {},
     "output_type": "execute_result"
    }
   ],
   "source": [
    "class A:\n",
    "    def __init__(self,name):\n",
    "        self.name = name\n",
    "    \n",
    "    def name(self):\n",
    "        print(\"function\",self.name)\n",
    "\n",
    "a = A(\"liyang\")\n",
    "a.name"
   ]
  },
  {
   "cell_type": "markdown",
   "metadata": {},
   "source": [
    "现在把A变成资料描述器"
   ]
  },
  {
   "cell_type": "code",
   "execution_count": 10,
   "metadata": {},
   "outputs": [
    {
     "name": "stdout",
     "output_type": "stream",
     "text": [
      "set name to liyang\n",
      "function: liyang\n"
     ]
    },
    {
     "data": {
      "text/plain": [
       "'liyang'"
      ]
     },
     "execution_count": 10,
     "metadata": {},
     "output_type": "execute_result"
    }
   ],
   "source": [
    "class A:\n",
    "    def __init__(self,name):\n",
    "        self.name = name\n",
    "    \n",
    "    @property\n",
    "    def name(self):\n",
    "        print(\"function: %s\" % self._name)\n",
    "        return self._name\n",
    "    \n",
    "    @name.setter\n",
    "    def name(self, value):\n",
    "        print(\"set name to\", value)\n",
    "        self._name = value\n",
    "\n",
    "a = A(\"liyang\")\n",
    "a.name"
   ]
  },
  {
   "cell_type": "markdown",
   "metadata": {},
   "source": [
    "如果想要创建一个全新的**实例属性**，可以通过一个描述器类的形式来实现它的功能。例如："
   ]
  },
  {
   "cell_type": "code",
   "execution_count": 11,
   "metadata": {
    "collapsed": true
   },
   "outputs": [],
   "source": [
    "# coding:utf-8\n",
    "# 增加了整数类型检查的描述器类\n",
    "class Interger:\n",
    "    def __init__(self, name):\n",
    "        self.name = name\n",
    "    \n",
    "    def __get__(self, instance, cls):\n",
    "        if instance is None:\n",
    "            return self\n",
    "        else:\n",
    "            return instance.__dict__[self.name]\n",
    "    \n",
    "    def __set__(self, instance, value):\n",
    "        if not isinstance(value, int):\n",
    "            raise TypeError('Except an int')\n",
    "        instance.__dict__[self.name] = value\n",
    "    \n",
    "    def __delete__(self, instance):\n",
    "        del instance.__dict__[self.name]\n"
   ]
  },
  {
   "cell_type": "markdown",
   "metadata": {},
   "source": [
    "一个描述器就是实现了三个核心的属性访问操作的类。这些方法接收一个实例作为输入，之后相应的去操作**实例底层的字典**  \n",
    "\n",
    "*** self 表示一个具体的实例本身 ***   \n",
    "*** cls 表示一个类本身 ***\n",
    "\n",
    "为了使用一个描述器，需要将这个描述器的实例作为类属性放到一个类中。例如："
   ]
  },
  {
   "cell_type": "code",
   "execution_count": 12,
   "metadata": {
    "collapsed": true
   },
   "outputs": [],
   "source": [
    "class Point:\n",
    "    # x,y是一个Interger的实例\n",
    "    x = Interger(\"x\")\n",
    "    y = Interger(\"y\")\n",
    "    \n",
    "    def __init__(self, x, y):\n",
    "        # 赋值操作时调用实例中的get,set,delete方法\n",
    "        self.x = x\n",
    "        self.y = y"
   ]
  },
  {
   "cell_type": "code",
   "execution_count": 13,
   "metadata": {},
   "outputs": [
    {
     "data": {
      "text/plain": [
       "2"
      ]
     },
     "execution_count": 13,
     "metadata": {},
     "output_type": "execute_result"
    }
   ],
   "source": [
    "p = Point(2, 3)\n",
    "p.x # calls Point.x.__get__()方法"
   ]
  },
  {
   "cell_type": "code",
   "execution_count": 16,
   "metadata": {},
   "outputs": [
    {
     "data": {
      "text/plain": [
       "2"
      ]
     },
     "execution_count": 16,
     "metadata": {},
     "output_type": "execute_result"
    }
   ],
   "source": [
    "p.y = 2 # calls Point.y.__set__()方法\n",
    "p.y"
   ]
  },
  {
   "cell_type": "markdown",
   "metadata": {},
   "source": [
    "作为输入，描述器的每一个方法会接收一个操作实例，为了实现请求操作，会响应的操作底层的字典（`__dict__`属性），self.name 属性存储了在实例字典中被实际使用到的key"
   ]
  },
  {
   "cell_type": "markdown",
   "metadata": {},
   "source": [
    "描述器可以实现大部分Python类的特性，包括 @classmethod 、@staticmethod、@property，甚至是\n",
    "`__slot__`特性。  \n",
    "通过定义一个描述器，可以在底层捕获核心的实例操作(get/set/delete)，并且完全可以自定义他们的行为。这是一个强大的工具，他是很多高级库和框架中的重要工具  \n",
    "描述器一个令人比较困惑的地方是**描述器只能在类级别被定义，而不能为每个实例单独定义**"
   ]
  },
  {
   "cell_type": "code",
   "execution_count": null,
   "metadata": {
    "collapsed": true
   },
   "outputs": [],
   "source": [
    "# Does NOT work\n",
    "class Point:\n",
    "    def __init__(self, x, y):\n",
    "        self.x = Integer('x') # No! Must be a class variable\n",
    "        self.y = Integer('y')\n",
    "        self.x = x\n",
    "        self.y = y"
   ]
  },
  {
   "cell_type": "markdown",
   "metadata": {},
   "source": [
    "描述器通常是哪些使用到装饰器或元类的大型框架中的一个组件，同时他们的使用也被隐藏在后面。 \n",
    "例如：下面是一些更高级的基于描述器的代码，并设计到一个类装饰器:"
   ]
  },
  {
   "cell_type": "code",
   "execution_count": 29,
   "metadata": {},
   "outputs": [],
   "source": [
    "# 描述器\n",
    "class Typed:\n",
    "    def __init__(self, name, excepted_type):\n",
    "        self.name = name\n",
    "        self.excepted_type = excepted_type\n",
    "    \n",
    "    def __get__(self, instance, cls):\n",
    "        if instance is None:\n",
    "            return self\n",
    "        else:\n",
    "            return instance.__dict__[self.name]\n",
    "    \n",
    "    def __set__(self, instance, value):\n",
    "        if not isinstance(value, self.excepted_type):\n",
    "            raise TypeError('Except :{}'.format(self.excepted_type))\n",
    "        instance.__dict__[self.name] = value\n",
    "    \n",
    "    def __delete__(self, instance):\n",
    "        del instance.__dict__[self.name]\n",
    "\n",
    "# 装饰器\n",
    "def typeassert(**kwargs):\n",
    "    # 传入当前类\n",
    "    def decorate(cls):\n",
    "        for name, excepted_type in kwargs.items():\n",
    "            # 将类型描述符附加到类\n",
    "            setattr(cls, name, Typed(name, excepted_type))\n",
    "        return cls\n",
    "        \n",
    "    return decorate\n",
    "\n",
    "# 使用说明\n",
    "# 指定每个name的类型\n",
    "\n",
    "@typeassert(name=str, shares=int, price=float)\n",
    "class Stock:\n",
    "    def __init__(self, name, shares, price):\n",
    "        self.name = name\n",
    "        self.shares = shares\n",
    "        self.price = price\n",
    "        \n",
    "stock = Stock(\"tencent\",100,1.0)"
   ]
  },
  {
   "cell_type": "markdown",
   "metadata": {},
   "source": [
    "最后，如果你只是想简单的自定义某个类的单个属性访问的话就不需要写描述器了。这种情况下property会更加容易。当程序中有很多重复代码是，描述器就会很有用了。"
   ]
  }
 ],
 "metadata": {
  "kernelspec": {
   "display_name": "Python 3",
   "language": "python",
   "name": "python3"
  },
  "language_info": {
   "codemirror_mode": {
    "name": "ipython",
    "version": 3
   },
   "file_extension": ".py",
   "mimetype": "text/x-python",
   "name": "python",
   "nbconvert_exporter": "python",
   "pygments_lexer": "ipython3",
   "version": "3.6.2"
  }
 },
 "nbformat": 4,
 "nbformat_minor": 2
}
