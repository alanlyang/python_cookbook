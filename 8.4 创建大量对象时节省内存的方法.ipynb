{
 "cells": [
  {
   "cell_type": "markdown",
   "metadata": {},
   "source": [
    "###  8.4 创建大量对象时节省内存的方法"
   ]
  },
  {
   "cell_type": "markdown",
   "metadata": {},
   "source": [
    "当程序需要大量创建对象时，通常会占用很大的内存。"
   ]
  },
  {
   "cell_type": "markdown",
   "metadata": {},
   "source": [
    "对于主要是用来当成简单的数据结构的类而言，可以通过给类添加 ***`__slots__`*** 属性来极大的减少实例所占用的内存。\n",
    "例如："
   ]
  },
  {
   "cell_type": "code",
   "execution_count": 21,
   "metadata": {
    "collapsed": true
   },
   "outputs": [],
   "source": [
    "class Date:\n",
    "    __slots__ = [\"year\", \"month\" ,\"day\"]\n",
    "    \n",
    "    def __init__(self, year, month, day):\n",
    "        self.year = year\n",
    "        self.month = month\n",
    "        self.day = day"
   ]
  },
  {
   "cell_type": "markdown",
   "metadata": {},
   "source": [
    "当定义 ***`__slots__`*** 后，Python就会为实例使用一种更加紧凑的内部表示。\n",
    "实例通过一个很小的固定大小的数组来构建，而不是为每个实例定义一个字典，这和元组/列表很像。\n",
    "***`__slots__`*** 中列出的属性名在内部被映射到这个数组的制定下标上。**使用slots一个不好的地方就是无法给实例添加新的属性**，只能使用在`__slots__`中定义好的属性名"
   ]
  },
  {
   "cell_type": "markdown",
   "metadata": {},
   "source": [
    "尽管slots 看上去是一个很用用的特性，但是很多时候应该尽量减少对其的使用。\n",
    "python 的很多特性都依赖于普通的基于字典的实现。\n",
    "另外定义了 slots 后的类不在支持一些普通类特性，例如：多继承等\n",
    "\n",
    "**绝大多数情况下，应该只在那些经常被使用到的用作数据结构的类上定义slots **\n",
    "\n",
    "**关于`__slots__`的一个常见误区，就是它可以作为一个封装工具来防止用户给实例增加新的属性**，尽管它确实可以达到这个目的，但是这并不是设计`__slots__`的初衷，**设计的初衷是用来进行内存优化的工具**"
   ]
  }
 ],
 "metadata": {
  "kernelspec": {
   "display_name": "Python 3",
   "language": "python",
   "name": "python3"
  },
  "language_info": {
   "codemirror_mode": {
    "name": "ipython",
    "version": 3
   },
   "file_extension": ".py",
   "mimetype": "text/x-python",
   "name": "python",
   "nbconvert_exporter": "python",
   "pygments_lexer": "ipython3",
   "version": "3.6.2"
  }
 },
 "nbformat": 4,
 "nbformat_minor": 2
}
