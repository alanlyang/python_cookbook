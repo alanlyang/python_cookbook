{
 "cells": [
  {
   "cell_type": "markdown",
   "metadata": {},
   "source": [
    "### 2.19 实现一个简单的递归下降分析器"
   ]
  },
  {
   "cell_type": "markdown",
   "metadata": {},
   "source": [
    "递归下降分析法（编译原理）"
   ]
  },
  {
   "cell_type": "markdown",
   "metadata": {},
   "source": [
    "递归下降分析的原理是利用函数之间的递归调用模拟语法树自上而下的构造过程，具体实现方法概述如下:"
   ]
  },
  {
   "cell_type": "markdown",
   "metadata": {},
   "source": [
    "1)每个非终结符对应一个解析函数\n",
    "2)产生式右侧为该产生式左侧非终结符所对应解析函数的“函数体”\n",
    "3)产生式右侧终结符对应从输入串中“消耗”该终结符的操作\n",
    "4)产生式中的“|”对应函数体重的 if-else 语句\n",
    "5)对于扩展的 BNF 文法，产生式中的 \"{ }\"对应函数体中的 'while' 语句"
   ]
  },
  {
   "cell_type": "markdown",
   "metadata": {
    "collapsed": true
   },
   "source": [
    "你想根据一组语法规则解析文本并执行命令，或者构造一个代表输入的抽象语法是。如果语法非常简单，你可以自己写这个解析器，而不是使用一些框架"
   ]
  },
  {
   "cell_type": "code",
   "execution_count": null,
   "metadata": {
    "collapsed": true
   },
   "outputs": [],
   "source": []
  }
 ],
 "metadata": {
  "kernelspec": {
   "display_name": "Python 3",
   "language": "python",
   "name": "python3"
  },
  "language_info": {
   "codemirror_mode": {
    "name": "ipython",
    "version": 3
   },
   "file_extension": ".py",
   "mimetype": "text/x-python",
   "name": "python",
   "nbconvert_exporter": "python",
   "pygments_lexer": "ipython3",
   "version": "3.6.2"
  }
 },
 "nbformat": 4,
 "nbformat_minor": 2
}
