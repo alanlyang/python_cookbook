{
 "cells": [
  {
   "cell_type": "markdown",
   "metadata": {
    "collapsed": true
   },
   "source": [
    "### 3.11 随机选择"
   ]
  },
  {
   "cell_type": "markdown",
   "metadata": {},
   "source": [
    "如何从一个序列中随机抽取若干个元素，或者生成几个随机数？"
   ]
  },
  {
   "cell_type": "markdown",
   "metadata": {},
   "source": [
    "python 提供了 random 模块用来产生随机数以及随机选择元素。比如，想要从一个序列中随机抽取一个元素"
   ]
  },
  {
   "cell_type": "markdown",
   "metadata": {},
   "source": [
    "此时，可以实用 random.choice() "
   ]
  },
  {
   "cell_type": "code",
   "execution_count": 8,
   "metadata": {
    "collapsed": true
   },
   "outputs": [],
   "source": [
    "import random\n",
    "values = [i for i in range(6)]"
   ]
  },
  {
   "cell_type": "code",
   "execution_count": 3,
   "metadata": {},
   "outputs": [
    {
     "data": {
      "text/plain": [
       "1"
      ]
     },
     "execution_count": 3,
     "metadata": {},
     "output_type": "execute_result"
    }
   ],
   "source": [
    "random.choice(values)"
   ]
  },
  {
   "cell_type": "markdown",
   "metadata": {},
   "source": [
    "为了提取出 N 个不同元素的样本用来做进一步操作，可以实用 random.sample(),该函数可以接受指定的 N 值，来确定要提取的元素个数"
   ]
  },
  {
   "cell_type": "code",
   "execution_count": 4,
   "metadata": {},
   "outputs": [
    {
     "data": {
      "text/plain": [
       "[0, 4, 3]"
      ]
     },
     "execution_count": 4,
     "metadata": {},
     "output_type": "execute_result"
    }
   ],
   "source": [
    "random.sample(values,3)"
   ]
  },
  {
   "cell_type": "markdown",
   "metadata": {},
   "source": [
    "如果仅仅是想打乱序列中元素的顺序，可以实用 random.shuffle 来实现"
   ]
  },
  {
   "cell_type": "code",
   "execution_count": 9,
   "metadata": {},
   "outputs": [
    {
     "name": "stdout",
     "output_type": "stream",
     "text": [
      "[0, 1, 2, 3, 4, 5]\n",
      "[1, 0, 5, 2, 3, 4]\n"
     ]
    }
   ],
   "source": [
    "print(values)\n",
    "random.shuffle(values)\n",
    "print(values)"
   ]
  },
  {
   "cell_type": "markdown",
   "metadata": {},
   "source": [
    "生成随机整数，可以实用random.randint(),该函数可以接受两个整数值作为上下限"
   ]
  },
  {
   "cell_type": "code",
   "execution_count": 10,
   "metadata": {},
   "outputs": [
    {
     "data": {
      "text/plain": [
       "4"
      ]
     },
     "execution_count": 10,
     "metadata": {},
     "output_type": "execute_result"
    }
   ],
   "source": [
    "random.randint(0,10)"
   ]
  },
  {
   "cell_type": "markdown",
   "metadata": {},
   "source": [
    "生成0-1之间的浮点值，可以使用random.random()"
   ]
  },
  {
   "cell_type": "markdown",
   "metadata": {},
   "source": [
    "random模块 使用的是 *Mersenne Twister* 算法来计算随机生成数，这是一个确定性的算法，但是可以通过 random.seed() 函数修改初始化种子"
   ]
  },
  {
   "cell_type": "markdown",
   "metadata": {},
   "source": [
    "除了上述的功能外，random模块还包含基于 均匀分布、高斯分布和其他分布的随机生成函数。\n",
    "1. random.uniform() 计算均匀分布随机数\n",
    "2. random.gauss() 计算正态分布随机数\n",
    "3. 其他的分布情况可以参考在线文档"
   ]
  },
  {
   "cell_type": "markdown",
   "metadata": {},
   "source": [
    "random 模块中函数 **不应该** 用在和**密码学**相关的程序中。如果确实需要类似的功能，可以使用 **ssl模块**中的函数，比如 ssl.RAND_bytes() 可以用来生成一个安全的随机字节序列"
   ]
  }
 ],
 "metadata": {
  "kernelspec": {
   "display_name": "Python 3",
   "language": "python",
   "name": "python3"
  },
  "language_info": {
   "codemirror_mode": {
    "name": "ipython",
    "version": 3
   },
   "file_extension": ".py",
   "mimetype": "text/x-python",
   "name": "python",
   "nbconvert_exporter": "python",
   "pygments_lexer": "ipython3",
   "version": "3.6.2"
  }
 },
 "nbformat": 4,
 "nbformat_minor": 2
}
